{
 "cells": [
  {
   "cell_type": "markdown",
   "id": "a4f77b1c",
   "metadata": {},
   "source": [
    "# EMCal clustering with Tensorflow/Keras"
   ]
  },
  {
   "cell_type": "markdown",
   "id": "3fa6d359",
   "metadata": {},
   "source": [
    "## 1. Preprocess data"
   ]
  },
  {
   "cell_type": "code",
   "execution_count": 2,
   "id": "fb4dfe2f",
   "metadata": {},
   "outputs": [],
   "source": [
    "import numpy as np\n",
    "import matplotlib.pyplot as plt\n",
    "import uproot"
   ]
  },
  {
   "cell_type": "code",
   "execution_count": 3,
   "id": "e48f0cd7",
   "metadata": {},
   "outputs": [],
   "source": [
    "N = 20000\n",
    "\n",
    "file = uproot.open('data/merged_20000_evts.root')\n",
    "tree = file['ttree']\n",
    "\n",
    "\n",
    "pid = tree['truthpar_id'].array(library='np', entry_stop=N)\n",
    "px = tree['truthpar_px'].array(library='np', entry_stop=N)\n",
    "py = tree['truthpar_py'].array(library='np', entry_stop=N)\n",
    "pz = tree['truthpar_pz'].array(library='np', entry_stop=N)\n",
    "\n",
    "pid = np.concatenate(pid,axis=0)\n",
    "pid = (pid == 22).astype(int)\n",
    "\n",
    "px = np.concatenate(px,axis=0)\n",
    "py = np.concatenate(py,axis=0)\n",
    "pz = np.concatenate(pz,axis=0)"
   ]
  },
  {
   "cell_type": "code",
   "execution_count": 4,
   "id": "400d0442",
   "metadata": {},
   "outputs": [],
   "source": [
    "pt = []\n",
    "eta = []\n",
    "phi = []\n",
    "\n",
    "for i in range(N):\n",
    "    pt.append(np.sqrt(px[i]*px[i]+py[i]*py[i]+pz[i]*pz[i]))\n",
    "    p = np.sqrt(px[i]*px[i]+py[i]*py[i]+pz[i]*pz[i])\n",
    "    eta.append(0.5 * np.log((p + pz[i]) / (p - pz[i])))\n",
    "    phi.append(np.arctan2(py[i],px[i]))\n",
    "    \n",
    "pt = np.array(pt)\n",
    "eta = np.array(eta)\n",
    "phi = np.array(phi)"
   ]
  },
  {
   "cell_type": "code",
   "execution_count": 5,
   "id": "2030dc77",
   "metadata": {},
   "outputs": [],
   "source": [
    "e_tow = tree['emcalen'].array(library='np', entry_stop=N)\n",
    "eta_tow = tree['emcalet'].array(library='np', entry_stop=N)\n",
    "phi_tow = tree['emcalph'].array(library='np', entry_stop=N)"
   ]
  },
  {
   "cell_type": "code",
   "execution_count": 6,
   "id": "8bbbca9f",
   "metadata": {},
   "outputs": [],
   "source": [
    "eta_values = set()\n",
    "\n",
    "for et in eta_tow:\n",
    "    eta_values = eta_values.union(set(et))\n",
    "    \n",
    "eta_values = list(eta_values)\n",
    "eta_values.sort()\n",
    "\n",
    "eta_dict = dict()\n",
    "\n",
    "for i,et in enumerate(eta_values):\n",
    "    eta_dict[et] = i"
   ]
  },
  {
   "cell_type": "code",
   "execution_count": 7,
   "id": "69930a3a",
   "metadata": {},
   "outputs": [],
   "source": [
    "phi_values = set()\n",
    "\n",
    "for ph in phi_tow:\n",
    "    phi_values = phi_values.union(set(ph))\n",
    "    \n",
    "phi_values = list(phi_values)\n",
    "phi_values.sort()\n",
    "\n",
    "phi_dict = dict()\n",
    "\n",
    "for i,ph in enumerate(phi_values):\n",
    "    phi_dict[ph] = i"
   ]
  },
  {
   "cell_type": "code",
   "execution_count": 8,
   "id": "ad50869f",
   "metadata": {},
   "outputs": [],
   "source": [
    "ieta_tow = []\n",
    "iphi_tow = [] \n",
    "\n",
    "for et,ph in zip(eta_tow,phi_tow):\n",
    "    ieta_event = []\n",
    "    iphi_event = []\n",
    "    for e,p in zip(et,ph):\n",
    "        ieta_event.append(eta_dict[e])\n",
    "        iphi_event.append(phi_dict[p])\n",
    "    ieta_tow.append(np.array(ieta_event))\n",
    "    iphi_tow.append(np.array(iphi_event))\n",
    "    \n",
    "ieta_tow = np.array(ieta_tow,dtype=object)\n",
    "iphi_tow = np.array(iphi_tow,dtype=object)"
   ]
  },
  {
   "cell_type": "code",
   "execution_count": 9,
   "id": "a99c2d90",
   "metadata": {},
   "outputs": [],
   "source": [
    "seed_e = np.zeros(N)\n",
    "seed_eta = np.zeros(N)\n",
    "seed_ieta = np.zeros(N,dtype=int)\n",
    "seed_phi = np.zeros(N)\n",
    "seed_iphi = np.zeros(N,dtype=int)\n",
    "\n",
    "nmax_e = np.zeros(N)\n",
    "nmax_eta = np.zeros(N)\n",
    "nmax_ieta = np.zeros(N,dtype=int)\n",
    "nmax_phi = np.zeros(N)\n",
    "nmax_iphi = np.zeros(N,dtype=int)\n",
    "\n",
    "i = 0\n",
    "for e,et,ph in zip(e_tow,eta_tow,phi_tow):\n",
    "    e_copy = e.copy()\n",
    "    e_copy.sort()\n",
    "    seed_e[i] = e_copy[-1]\n",
    "    seed_index = list(e).index(seed_e[i])\n",
    "    seed_eta[i] = et[seed_index]\n",
    "    seed_ieta[i] = eta_dict[seed_eta[i]]\n",
    "    seed_phi[i] = ph[seed_index]\n",
    "    seed_iphi[i] = phi_dict[seed_phi[i]]\n",
    "    \n",
    "    nmax_e[i] = e_copy[-2]\n",
    "    nmax_index = list(e).index(nmax_e[i])\n",
    "    nmax_eta[i] = et[nmax_index]\n",
    "    nmax_ieta[i] = eta_dict[nmax_eta[i]]\n",
    "    nmax_phi[i] = ph[nmax_index]\n",
    "    nmax_iphi[i] = phi_dict[nmax_phi[i]]\n",
    "    \n",
    "    i += 1"
   ]
  },
  {
   "cell_type": "code",
   "execution_count": 42,
   "id": "40af7223",
   "metadata": {},
   "outputs": [],
   "source": [
    "clusters = np.zeros((N,25),dtype=float)\n",
    "clusters7x7 = np.zeros((N,49),dtype=float)\n",
    "clusters9x9 = np.zeros((N,81),dtype=float)\n",
    "clusters19x19 = np.zeros((N,19*19),dtype=float)\n",
    "\n",
    "clusters9x9_2d = np.zeros((N,9,9),dtype=float)\n",
    "clusters19x19_2d = np.zeros((N,19,19),dtype=float)\n",
    "\n",
    "for i in range(N):\n",
    "    if seed_e[i] < 0.1 or seed_ieta[i] < 2 or seed_ieta[i] > 93:\n",
    "        continue\n",
    "    \n",
    "    for iet in range(0,5):\n",
    "        for iph in range(0,5):\n",
    "            index = np.where((ieta_tow[i] == iet+seed_ieta[i]-2) & (iphi_tow[i] == (iph+seed_iphi[i]-2) % 256))[0]\n",
    "            if len(index) == 1:\n",
    "                clusters[i][iet + iph*5] = e_tow[i][index]/seed_e[i]\n",
    "            else:\n",
    "                clusters[i][iet + iph*5] = 0            \n",
    "     \n",
    "    for iet in range(0,7):\n",
    "        for iph in range(0,7):\n",
    "            index = np.where((ieta_tow[i] == iet+seed_ieta[i]-3) & (iphi_tow[i] == (iph+seed_iphi[i]-3) % 256))[0]\n",
    "            if len(index) == 1:\n",
    "                clusters7x7[i][iet + iph*7] = e_tow[i][index]/seed_e[i]\n",
    "            else:\n",
    "                clusters7x7[i][iet + iph*7] = 0\n",
    "                \n",
    "    for iet in range(0,9):\n",
    "        for iph in range(0,9):\n",
    "            index = np.where((ieta_tow[i] == iet+seed_ieta[i]-4) & (iphi_tow[i] == (iph+seed_iphi[i]-4) % 256))[0]\n",
    "            if len(index) == 1:\n",
    "                clusters9x9[i][iet + iph*9] = e_tow[i][index]/seed_e[i]\n",
    "                clusters9x9_2d[i][iet][iph] = e_tow[i][index]/seed_e[i]\n",
    "            else:\n",
    "                clusters9x9[i][iet + iph*9] = 0\n",
    "                clusters9x9_2d[i][iet][iph] = 0\n",
    "                \n",
    "    for iet in range(0,19):\n",
    "        for iph in range(0,19):\n",
    "            index = np.where((ieta_tow[i] == iet+seed_ieta[i]-9) & (iphi_tow[i] == (iph+seed_iphi[i]-9) % 256))[0]\n",
    "            if len(index) == 1:\n",
    "                clusters19x19[i][iet + iph*19] = e_tow[i][index]/seed_e[i]\n",
    "                clusters19x19_2d[i][iet][iph] = e_tow[i][index]/seed_e[i]\n",
    "            else:\n",
    "                clusters19x19[i][iet + iph*19] = 0\n",
    "                clusters19x19_2d[i][iet][iph] = 0"
   ]
  },
  {
   "cell_type": "code",
   "execution_count": 48,
   "id": "536322df",
   "metadata": {},
   "outputs": [],
   "source": [
    "condition = (seed_e > 0.1) & (seed_ieta > 8) & (seed_ieta < 88)\n",
    "pidNN_cleaned = pid[np.where(condition)[0]]\n",
    "clusters5x5_cleaned = clusters[np.where(condition)[0]]\n",
    "clusters7x7_cleaned = clusters7x7[np.where(condition)[0]]\n",
    "clusters9x9_cleaned = clusters9x9[np.where(condition)[0]]\n",
    "clusters19x19_cleaned = clusters19x19[np.where(condition)[0]]\n",
    "\n",
    "clusters9x9_2d_cleaned = clusters9x9_2d[np.where(condition)[0]]\n",
    "clusters19x19_2d_cleaned = clusters19x19_2d[np.where(condition)[0]]"
   ]
  },
  {
   "cell_type": "code",
   "execution_count": 46,
   "id": "4596ba73",
   "metadata": {},
   "outputs": [
    {
     "data": {
      "text/plain": [
       "<matplotlib.image.AxesImage at 0x7fba047b2ec0>"
      ]
     },
     "execution_count": 46,
     "metadata": {},
     "output_type": "execute_result"
    },
    {
     "data": {
      "image/png": "[encoded data removed]",
      "text/plain": [
       "<Figure size 432x288 with 1 Axes>"
      ]
     },
     "metadata": {
      "needs_background": "light"
     },
     "output_type": "display_data"
    }
   ],
   "source": [
    "plt.imshow(clusters9x9_2d_cleaned[0])"
   ]
  },
  {
   "cell_type": "markdown",
   "id": "73447f76",
   "metadata": {},
   "source": [
    "## 2. Build Keras model"
   ]
  },
  {
   "cell_type": "code",
   "execution_count": 13,
   "id": "ea3c6155",
   "metadata": {},
   "outputs": [],
   "source": [
    "import os\n",
    "os.environ['TF_CPP_MIN_LOG_LEVEL'] = '2'"
   ]
  },
  {
   "cell_type": "code",
   "execution_count": 14,
   "id": "46378eea",
   "metadata": {},
   "outputs": [
    {
     "name": "stderr",
     "output_type": "stream",
     "text": [
      "2022-09-29 17:35:24.124205: E tensorflow/stream_executor/cuda/cuda_blas.cc:2981] Unable to register cuBLAS factory: Attempting to register factory for plugin cuBLAS when one has already been registered\n"
     ]
    }
   ],
   "source": [
    "import tensorflow as tf\n",
    "from tensorflow import keras\n",
    "from keras import layers\n",
    "from keras import models"
   ]
  },
  {
   "cell_type": "code",
   "execution_count": 62,
   "id": "6eab766e",
   "metadata": {},
   "outputs": [],
   "source": [
    "model = models.Sequential(\n",
    "    [\n",
    "        keras.Input(shape=(9*9,)),\n",
    "        layers.Dense(16,activation=\"relu\"),\n",
    "        layers.Dense(16,activation=\"relu\"),\n",
    "        layers.Dense(1, activation='sigmoid')\n",
    "    ]\n",
    "\n",
    ")\n",
    "\n",
    "model.compile(loss=\"binary_crossentropy\", optimizer=\"adam\", metrics=[\"accuracy\"])"
   ]
  },
  {
   "cell_type": "markdown",
   "id": "33f064ee",
   "metadata": {},
   "source": [
    "## 3. Test Keras model"
   ]
  },
  {
   "cell_type": "code",
   "execution_count": 63,
   "id": "2dda9dae",
   "metadata": {},
   "outputs": [
    {
     "name": "stdout",
     "output_type": "stream",
     "text": [
      "Epoch 1/50\n",
      "296/296 [==============================] - 1s 1ms/step - loss: 0.6338 - accuracy: 0.6765 - val_loss: 0.5539 - val_accuracy: 0.7464\n",
      "Epoch 2/50\n",
      "296/296 [==============================] - 0s 1ms/step - loss: 0.5032 - accuracy: 0.7788 - val_loss: 0.4780 - val_accuracy: 0.7778\n",
      "Epoch 3/50\n",
      "296/296 [==============================] - 0s 1ms/step - loss: 0.4582 - accuracy: 0.8063 - val_loss: 0.4358 - val_accuracy: 0.8167\n",
      "Epoch 4/50\n",
      "296/296 [==============================] - 0s 1ms/step - loss: 0.4304 - accuracy: 0.8221 - val_loss: 0.4092 - val_accuracy: 0.8281\n",
      "Epoch 5/50\n",
      "296/296 [==============================] - 0s 1ms/step - loss: 0.4083 - accuracy: 0.8335 - val_loss: 0.3876 - val_accuracy: 0.8329\n",
      "Epoch 6/50\n",
      "296/296 [==============================] - 0s 1ms/step - loss: 0.3907 - accuracy: 0.8443 - val_loss: 0.3670 - val_accuracy: 0.8490\n",
      "Epoch 7/50\n",
      "296/296 [==============================] - 0s 1ms/step - loss: 0.3738 - accuracy: 0.8503 - val_loss: 0.3507 - val_accuracy: 0.8632\n",
      "Epoch 8/50\n",
      "296/296 [==============================] - 0s 1ms/step - loss: 0.3600 - accuracy: 0.8597 - val_loss: 0.3406 - val_accuracy: 0.8727\n",
      "Epoch 9/50\n",
      "296/296 [==============================] - 0s 1ms/step - loss: 0.3478 - accuracy: 0.8653 - val_loss: 0.3267 - val_accuracy: 0.8803\n",
      "Epoch 10/50\n",
      "296/296 [==============================] - 0s 1ms/step - loss: 0.3364 - accuracy: 0.8700 - val_loss: 0.3184 - val_accuracy: 0.8822\n",
      "Epoch 11/50\n",
      "296/296 [==============================] - 0s 1ms/step - loss: 0.3262 - accuracy: 0.8768 - val_loss: 0.3103 - val_accuracy: 0.8870\n",
      "Epoch 12/50\n",
      "296/296 [==============================] - 0s 1ms/step - loss: 0.3159 - accuracy: 0.8822 - val_loss: 0.3044 - val_accuracy: 0.8898\n",
      "Epoch 13/50\n",
      "296/296 [==============================] - 0s 1ms/step - loss: 0.3076 - accuracy: 0.8855 - val_loss: 0.2988 - val_accuracy: 0.8917\n",
      "Epoch 14/50\n",
      "296/296 [==============================] - 1s 2ms/step - loss: 0.3006 - accuracy: 0.8893 - val_loss: 0.3045 - val_accuracy: 0.8879\n",
      "Epoch 15/50\n",
      "296/296 [==============================] - 0s 1ms/step - loss: 0.2950 - accuracy: 0.8906 - val_loss: 0.2989 - val_accuracy: 0.8955\n",
      "Epoch 16/50\n",
      "296/296 [==============================] - 0s 1ms/step - loss: 0.2919 - accuracy: 0.8926 - val_loss: 0.2879 - val_accuracy: 0.8965\n",
      "Epoch 17/50\n",
      "296/296 [==============================] - 0s 1ms/step - loss: 0.2864 - accuracy: 0.8974 - val_loss: 0.2847 - val_accuracy: 0.8955\n",
      "Epoch 18/50\n",
      "296/296 [==============================] - 0s 2ms/step - loss: 0.2813 - accuracy: 0.8981 - val_loss: 0.2868 - val_accuracy: 0.8936\n",
      "Epoch 19/50\n",
      "296/296 [==============================] - 0s 1ms/step - loss: 0.2772 - accuracy: 0.9013 - val_loss: 0.2795 - val_accuracy: 0.8946\n",
      "Epoch 20/50\n",
      "296/296 [==============================] - 0s 1ms/step - loss: 0.2741 - accuracy: 0.9003 - val_loss: 0.2763 - val_accuracy: 0.9003\n",
      "Epoch 21/50\n",
      "296/296 [==============================] - 0s 1ms/step - loss: 0.2711 - accuracy: 0.9031 - val_loss: 0.2780 - val_accuracy: 0.9022\n",
      "Epoch 22/50\n",
      "296/296 [==============================] - 0s 1ms/step - loss: 0.2683 - accuracy: 0.9038 - val_loss: 0.2757 - val_accuracy: 0.9012\n",
      "Epoch 23/50\n",
      "296/296 [==============================] - 0s 1ms/step - loss: 0.2686 - accuracy: 0.9041 - val_loss: 0.2770 - val_accuracy: 0.9003\n",
      "Epoch 24/50\n",
      "296/296 [==============================] - 0s 1ms/step - loss: 0.2642 - accuracy: 0.9053 - val_loss: 0.2761 - val_accuracy: 0.9012\n",
      "Epoch 25/50\n",
      "296/296 [==============================] - 0s 1ms/step - loss: 0.2620 - accuracy: 0.9070 - val_loss: 0.2722 - val_accuracy: 0.9022\n",
      "Epoch 26/50\n",
      "296/296 [==============================] - 0s 1ms/step - loss: 0.2604 - accuracy: 0.9089 - val_loss: 0.2782 - val_accuracy: 0.9022\n",
      "Epoch 27/50\n",
      "296/296 [==============================] - 0s 1ms/step - loss: 0.2580 - accuracy: 0.9087 - val_loss: 0.2867 - val_accuracy: 0.8965\n",
      "Epoch 28/50\n",
      "296/296 [==============================] - 0s 1ms/step - loss: 0.2572 - accuracy: 0.9085 - val_loss: 0.2726 - val_accuracy: 0.9041\n",
      "Epoch 29/50\n",
      "296/296 [==============================] - 0s 1ms/step - loss: 0.2568 - accuracy: 0.9073 - val_loss: 0.2699 - val_accuracy: 0.9050\n",
      "Epoch 30/50\n",
      "296/296 [==============================] - 0s 1ms/step - loss: 0.2542 - accuracy: 0.9110 - val_loss: 0.2735 - val_accuracy: 0.8993\n",
      "Epoch 31/50\n",
      "296/296 [==============================] - 0s 1ms/step - loss: 0.2527 - accuracy: 0.9100 - val_loss: 0.2608 - val_accuracy: 0.9069\n",
      "Epoch 32/50\n",
      "296/296 [==============================] - 0s 1ms/step - loss: 0.2521 - accuracy: 0.9110 - val_loss: 0.2672 - val_accuracy: 0.9031\n",
      "Epoch 33/50\n",
      "296/296 [==============================] - 0s 1ms/step - loss: 0.2493 - accuracy: 0.9123 - val_loss: 0.2586 - val_accuracy: 0.9050\n",
      "Epoch 34/50\n",
      "296/296 [==============================] - 0s 1ms/step - loss: 0.2489 - accuracy: 0.9122 - val_loss: 0.2598 - val_accuracy: 0.9022\n",
      "Epoch 35/50\n",
      "296/296 [==============================] - 0s 1ms/step - loss: 0.2501 - accuracy: 0.9107 - val_loss: 0.2593 - val_accuracy: 0.9060\n",
      "Epoch 36/50\n",
      "296/296 [==============================] - 0s 1ms/step - loss: 0.2471 - accuracy: 0.9118 - val_loss: 0.2630 - val_accuracy: 0.9022\n",
      "Epoch 37/50\n",
      "296/296 [==============================] - 0s 1ms/step - loss: 0.2465 - accuracy: 0.9138 - val_loss: 0.2581 - val_accuracy: 0.9003\n",
      "Epoch 38/50\n",
      "296/296 [==============================] - 0s 2ms/step - loss: 0.2444 - accuracy: 0.9146 - val_loss: 0.2582 - val_accuracy: 0.9060\n",
      "Epoch 39/50\n",
      "296/296 [==============================] - 0s 1ms/step - loss: 0.2432 - accuracy: 0.9149 - val_loss: 0.2614 - val_accuracy: 0.9012\n",
      "Epoch 40/50\n",
      "296/296 [==============================] - 0s 1ms/step - loss: 0.2442 - accuracy: 0.9135 - val_loss: 0.2555 - val_accuracy: 0.9088\n",
      "Epoch 41/50\n",
      "296/296 [==============================] - 0s 1ms/step - loss: 0.2408 - accuracy: 0.9143 - val_loss: 0.2536 - val_accuracy: 0.9088\n",
      "Epoch 42/50\n",
      "296/296 [==============================] - 0s 1ms/step - loss: 0.2416 - accuracy: 0.9146 - val_loss: 0.2690 - val_accuracy: 0.9041\n",
      "Epoch 43/50\n",
      "296/296 [==============================] - 0s 1ms/step - loss: 0.2420 - accuracy: 0.9164 - val_loss: 0.2553 - val_accuracy: 0.9117\n",
      "Epoch 44/50\n",
      "296/296 [==============================] - 0s 1ms/step - loss: 0.2418 - accuracy: 0.9158 - val_loss: 0.2574 - val_accuracy: 0.9003\n",
      "Epoch 45/50\n",
      "296/296 [==============================] - 0s 1ms/step - loss: 0.2392 - accuracy: 0.9149 - val_loss: 0.2559 - val_accuracy: 0.9079\n",
      "Epoch 46/50\n",
      "296/296 [==============================] - 0s 1ms/step - loss: 0.2393 - accuracy: 0.9156 - val_loss: 0.2640 - val_accuracy: 0.9069\n",
      "Epoch 47/50\n",
      "296/296 [==============================] - 0s 1ms/step - loss: 0.2376 - accuracy: 0.9175 - val_loss: 0.2523 - val_accuracy: 0.9107\n",
      "Epoch 48/50\n",
      "296/296 [==============================] - 0s 1ms/step - loss: 0.2397 - accuracy: 0.9153 - val_loss: 0.2542 - val_accuracy: 0.9031\n",
      "Epoch 49/50\n",
      "296/296 [==============================] - 0s 1ms/step - loss: 0.2385 - accuracy: 0.9156 - val_loss: 0.2583 - val_accuracy: 0.9003\n",
      "Epoch 50/50\n",
      "296/296 [==============================] - 0s 1ms/step - loss: 0.2364 - accuracy: 0.9173 - val_loss: 0.2644 - val_accuracy: 0.9003\n"
     ]
    },
    {
     "data": {
      "text/plain": [
       "<keras.callbacks.History at 0x7fbac6246890>"
      ]
     },
     "execution_count": 63,
     "metadata": {},
     "output_type": "execute_result"
    }
   ],
   "source": [
    "from sklearn.model_selection import train_test_split\n",
    "\n",
    "X_train, X_test, y_train, y_test = train_test_split(clusters9x9_cleaned, pidNN_cleaned, test_size=0.33, random_state=42)\n",
    "\n",
    "model.fit(X_train, y_train, batch_size=32, epochs=50, validation_split=0.1)"
   ]
  },
  {
   "cell_type": "code",
   "execution_count": 64,
   "id": "8c03328f",
   "metadata": {},
   "outputs": [
    {
     "name": "stdout",
     "output_type": "stream",
     "text": [
      "162/162 [==============================] - 0s 857us/step - loss: 0.2876 - accuracy: 0.9022\n"
     ]
    },
    {
     "data": {
      "text/plain": [
       "[0.2875981032848358, 0.9021990895271301]"
      ]
     },
     "execution_count": 64,
     "metadata": {},
     "output_type": "execute_result"
    }
   ],
   "source": [
    "model.evaluate(X_test, y_test)"
   ]
  },
  {
   "cell_type": "code",
   "execution_count": 65,
   "id": "b9dfcf98",
   "metadata": {},
   "outputs": [
    {
     "name": "stdout",
     "output_type": "stream",
     "text": [
      "162/162 [==============================] - 0s 626us/step\n"
     ]
    }
   ],
   "source": [
    "from sklearn import metrics\n",
    "\n",
    "fpr_dnn, tpr_dnn, thresholds = metrics.roc_curve(y_test, model.predict(X_test))"
   ]
  },
  {
   "cell_type": "markdown",
   "id": "c7c360c7",
   "metadata": {},
   "source": [
    "## 4. Convolutional neural network models"
   ]
  },
  {
   "cell_type": "code",
   "execution_count": 51,
   "id": "b9fd459b",
   "metadata": {},
   "outputs": [],
   "source": [
    "model2 = keras.Sequential(\n",
    "    [\n",
    "        keras.Input(shape=(19,19,1)),\n",
    "        layers.Conv2D(30, kernel_size=(3, 3), activation=\"relu\"),\n",
    "        layers.Conv2D(15, kernel_size=(3, 3), activation=\"relu\"),\n",
    "        layers.MaxPooling2D(pool_size=(2, 2)),\n",
    "        layers.Flatten(),\n",
    "        layers.Dense(64),\n",
    "        layers.Dropout(0.3),\n",
    "        layers.Dense(1, activation=\"sigmoid\"),\n",
    "    ]\n",
    ")\n",
    "\n",
    "model2.compile(loss=\"binary_crossentropy\", optimizer=\"adam\", metrics=[\"accuracy\"])"
   ]
  },
  {
   "cell_type": "code",
   "execution_count": 52,
   "id": "4be2d9ae",
   "metadata": {},
   "outputs": [
    {
     "name": "stdout",
     "output_type": "stream",
     "text": [
      "Epoch 1/50\n",
      "296/296 [==============================] - 3s 10ms/step - loss: 0.5547 - accuracy: 0.7243 - val_loss: 0.4465 - val_accuracy: 0.8129\n",
      "Epoch 2/50\n",
      "296/296 [==============================] - 3s 10ms/step - loss: 0.4226 - accuracy: 0.8264 - val_loss: 0.3630 - val_accuracy: 0.8727\n",
      "Epoch 3/50\n",
      "296/296 [==============================] - 3s 9ms/step - loss: 0.3685 - accuracy: 0.8609 - val_loss: 0.3221 - val_accuracy: 0.8813\n",
      "Epoch 4/50\n",
      "296/296 [==============================] - 3s 10ms/step - loss: 0.3472 - accuracy: 0.8725 - val_loss: 0.2855 - val_accuracy: 0.8936\n",
      "Epoch 5/50\n",
      "296/296 [==============================] - 3s 10ms/step - loss: 0.3265 - accuracy: 0.8815 - val_loss: 0.2832 - val_accuracy: 0.9031\n",
      "Epoch 6/50\n",
      "296/296 [==============================] - 3s 10ms/step - loss: 0.3099 - accuracy: 0.8904 - val_loss: 0.2796 - val_accuracy: 0.9022\n",
      "Epoch 7/50\n",
      "296/296 [==============================] - 3s 10ms/step - loss: 0.2980 - accuracy: 0.8938 - val_loss: 0.2722 - val_accuracy: 0.9098\n",
      "Epoch 8/50\n",
      "296/296 [==============================] - 3s 10ms/step - loss: 0.2879 - accuracy: 0.8996 - val_loss: 0.2674 - val_accuracy: 0.9022\n",
      "Epoch 9/50\n",
      "296/296 [==============================] - 3s 10ms/step - loss: 0.2807 - accuracy: 0.8998 - val_loss: 0.2411 - val_accuracy: 0.9231\n",
      "Epoch 10/50\n",
      "296/296 [==============================] - 3s 10ms/step - loss: 0.2740 - accuracy: 0.9020 - val_loss: 0.2441 - val_accuracy: 0.9193\n",
      "Epoch 11/50\n",
      "296/296 [==============================] - 3s 10ms/step - loss: 0.2702 - accuracy: 0.9068 - val_loss: 0.2479 - val_accuracy: 0.9136\n",
      "Epoch 12/50\n",
      "296/296 [==============================] - 3s 10ms/step - loss: 0.2596 - accuracy: 0.9108 - val_loss: 0.2448 - val_accuracy: 0.9212\n",
      "Epoch 13/50\n",
      "296/296 [==============================] - 3s 10ms/step - loss: 0.2653 - accuracy: 0.9044 - val_loss: 0.2593 - val_accuracy: 0.9012\n",
      "Epoch 14/50\n",
      "296/296 [==============================] - 3s 10ms/step - loss: 0.2592 - accuracy: 0.9128 - val_loss: 0.2516 - val_accuracy: 0.9117\n",
      "Epoch 15/50\n",
      "296/296 [==============================] - 3s 10ms/step - loss: 0.2522 - accuracy: 0.9134 - val_loss: 0.2367 - val_accuracy: 0.9174\n",
      "Epoch 16/50\n",
      "296/296 [==============================] - 3s 10ms/step - loss: 0.2461 - accuracy: 0.9173 - val_loss: 0.3109 - val_accuracy: 0.8851\n",
      "Epoch 17/50\n",
      "296/296 [==============================] - 3s 10ms/step - loss: 0.2425 - accuracy: 0.9152 - val_loss: 0.2414 - val_accuracy: 0.9136\n",
      "Epoch 18/50\n",
      "296/296 [==============================] - 3s 10ms/step - loss: 0.2446 - accuracy: 0.9168 - val_loss: 0.2368 - val_accuracy: 0.9145\n",
      "Epoch 19/50\n",
      "296/296 [==============================] - 3s 10ms/step - loss: 0.2359 - accuracy: 0.9223 - val_loss: 0.2379 - val_accuracy: 0.9231\n",
      "Epoch 20/50\n",
      "296/296 [==============================] - 3s 9ms/step - loss: 0.2384 - accuracy: 0.9184 - val_loss: 0.2368 - val_accuracy: 0.9145\n",
      "Epoch 21/50\n",
      "296/296 [==============================] - 3s 10ms/step - loss: 0.2361 - accuracy: 0.9193 - val_loss: 0.2562 - val_accuracy: 0.9174\n",
      "Epoch 22/50\n",
      "296/296 [==============================] - 3s 10ms/step - loss: 0.2334 - accuracy: 0.9203 - val_loss: 0.2320 - val_accuracy: 0.9221\n",
      "Epoch 23/50\n",
      "296/296 [==============================] - 3s 10ms/step - loss: 0.2272 - accuracy: 0.9227 - val_loss: 0.2479 - val_accuracy: 0.9259\n",
      "Epoch 24/50\n",
      "296/296 [==============================] - 3s 10ms/step - loss: 0.2267 - accuracy: 0.9212 - val_loss: 0.2280 - val_accuracy: 0.9212\n",
      "Epoch 25/50\n",
      "296/296 [==============================] - 3s 10ms/step - loss: 0.2243 - accuracy: 0.9226 - val_loss: 0.2439 - val_accuracy: 0.9221\n",
      "Epoch 26/50\n",
      "296/296 [==============================] - 3s 10ms/step - loss: 0.2238 - accuracy: 0.9251 - val_loss: 0.2269 - val_accuracy: 0.9278\n",
      "Epoch 27/50\n",
      "296/296 [==============================] - 3s 10ms/step - loss: 0.2189 - accuracy: 0.9256 - val_loss: 0.2303 - val_accuracy: 0.9212\n",
      "Epoch 28/50\n",
      "296/296 [==============================] - 3s 10ms/step - loss: 0.2160 - accuracy: 0.9283 - val_loss: 0.2282 - val_accuracy: 0.9250\n",
      "Epoch 29/50\n",
      "296/296 [==============================] - 3s 10ms/step - loss: 0.2155 - accuracy: 0.9297 - val_loss: 0.2310 - val_accuracy: 0.9250\n",
      "Epoch 30/50\n",
      "296/296 [==============================] - 3s 10ms/step - loss: 0.2100 - accuracy: 0.9313 - val_loss: 0.2390 - val_accuracy: 0.9250\n",
      "Epoch 31/50\n",
      "296/296 [==============================] - 3s 10ms/step - loss: 0.2151 - accuracy: 0.9287 - val_loss: 0.2276 - val_accuracy: 0.9288\n",
      "Epoch 32/50\n",
      "296/296 [==============================] - 3s 10ms/step - loss: 0.2113 - accuracy: 0.9294 - val_loss: 0.2336 - val_accuracy: 0.9278\n",
      "Epoch 33/50\n",
      "296/296 [==============================] - 3s 10ms/step - loss: 0.2066 - accuracy: 0.9322 - val_loss: 0.2294 - val_accuracy: 0.9269\n",
      "Epoch 34/50\n",
      "296/296 [==============================] - 3s 10ms/step - loss: 0.2036 - accuracy: 0.9332 - val_loss: 0.2435 - val_accuracy: 0.9183\n",
      "Epoch 35/50\n",
      "296/296 [==============================] - 3s 10ms/step - loss: 0.2030 - accuracy: 0.9316 - val_loss: 0.2413 - val_accuracy: 0.9259\n",
      "Epoch 36/50\n",
      "296/296 [==============================] - 3s 10ms/step - loss: 0.2044 - accuracy: 0.9330 - val_loss: 0.2368 - val_accuracy: 0.9259\n",
      "Epoch 37/50\n",
      "296/296 [==============================] - 3s 10ms/step - loss: 0.2016 - accuracy: 0.9354 - val_loss: 0.2365 - val_accuracy: 0.9259\n",
      "Epoch 38/50\n",
      "296/296 [==============================] - 3s 10ms/step - loss: 0.2026 - accuracy: 0.9330 - val_loss: 0.2272 - val_accuracy: 0.9240\n",
      "Epoch 39/50\n",
      "296/296 [==============================] - 3s 10ms/step - loss: 0.1996 - accuracy: 0.9354 - val_loss: 0.2309 - val_accuracy: 0.9250\n",
      "Epoch 40/50\n",
      "296/296 [==============================] - 3s 10ms/step - loss: 0.1988 - accuracy: 0.9371 - val_loss: 0.2373 - val_accuracy: 0.9240\n",
      "Epoch 41/50\n",
      "296/296 [==============================] - 3s 10ms/step - loss: 0.1956 - accuracy: 0.9383 - val_loss: 0.2438 - val_accuracy: 0.9231\n",
      "Epoch 42/50\n",
      "296/296 [==============================] - 3s 10ms/step - loss: 0.1959 - accuracy: 0.9368 - val_loss: 0.2338 - val_accuracy: 0.9183\n",
      "Epoch 43/50\n",
      "296/296 [==============================] - 3s 10ms/step - loss: 0.1941 - accuracy: 0.9375 - val_loss: 0.2332 - val_accuracy: 0.9269\n",
      "Epoch 44/50\n",
      "296/296 [==============================] - 3s 10ms/step - loss: 0.1903 - accuracy: 0.9380 - val_loss: 0.2322 - val_accuracy: 0.9259\n",
      "Epoch 45/50\n",
      "296/296 [==============================] - 3s 10ms/step - loss: 0.1907 - accuracy: 0.9389 - val_loss: 0.2245 - val_accuracy: 0.9250\n",
      "Epoch 46/50\n",
      "296/296 [==============================] - 3s 10ms/step - loss: 0.1904 - accuracy: 0.9388 - val_loss: 0.2531 - val_accuracy: 0.9240\n",
      "Epoch 47/50\n",
      "296/296 [==============================] - 3s 10ms/step - loss: 0.1895 - accuracy: 0.9391 - val_loss: 0.2332 - val_accuracy: 0.9240\n",
      "Epoch 48/50\n",
      "296/296 [==============================] - 3s 10ms/step - loss: 0.1869 - accuracy: 0.9409 - val_loss: 0.2414 - val_accuracy: 0.9212\n",
      "Epoch 49/50\n",
      "296/296 [==============================] - 3s 10ms/step - loss: 0.1880 - accuracy: 0.9390 - val_loss: 0.2416 - val_accuracy: 0.9269\n",
      "Epoch 50/50\n",
      "296/296 [==============================] - 3s 10ms/step - loss: 0.1847 - accuracy: 0.9411 - val_loss: 0.2406 - val_accuracy: 0.9212\n"
     ]
    },
    {
     "data": {
      "text/plain": [
       "<keras.callbacks.History at 0x7fbac6e490f0>"
      ]
     },
     "execution_count": 52,
     "metadata": {},
     "output_type": "execute_result"
    }
   ],
   "source": [
    "X_train, X_test, y_train, y_test = train_test_split(clusters19x19_2d_cleaned, pidNN_cleaned, test_size=0.33, random_state=42)\n",
    "\n",
    "model2.fit(X_train, y_train, batch_size=32, epochs=50, validation_split=0.1)"
   ]
  },
  {
   "cell_type": "code",
   "execution_count": 53,
   "id": "7a89634f",
   "metadata": {},
   "outputs": [
    {
     "name": "stdout",
     "output_type": "stream",
     "text": [
      "162/162 [==============================] - 0s 2ms/step - loss: 0.2642 - accuracy: 0.9292\n"
     ]
    },
    {
     "data": {
      "text/plain": [
       "[0.2642357051372528, 0.9292052388191223]"
      ]
     },
     "execution_count": 53,
     "metadata": {},
     "output_type": "execute_result"
    }
   ],
   "source": [
    "model2.evaluate(X_test, y_test)"
   ]
  },
  {
   "cell_type": "code",
   "execution_count": 54,
   "id": "dde43713",
   "metadata": {},
   "outputs": [
    {
     "name": "stdout",
     "output_type": "stream",
     "text": [
      "162/162 [==============================] - 0s 2ms/step\n"
     ]
    }
   ],
   "source": [
    "fpr_cnn, tpr_cnn, thresholds = metrics.roc_curve(y_test, model2.predict(X_test))"
   ]
  },
  {
   "cell_type": "code",
   "execution_count": 69,
   "id": "d486982d",
   "metadata": {},
   "outputs": [
    {
     "name": "stdout",
     "output_type": "stream",
     "text": [
      "DNN:\n",
      "pi0 rejection rate at 90% photon efficiency: 0.897138437741686\n",
      "photon rejection rate at 90% pi0 efficiency: 0.8814472671285605\n",
      "\n",
      "CNN:\n",
      "pi0 rejection rate at 90% photon efficiency: 0.9323279195668986\n",
      "photon rejection rate at 90% pi0 efficiency: 0.9615088529638183\n"
     ]
    },
    {
     "data": {
      "image/png": "[encoded data removed]",
      "text/plain": [
       "<Figure size 432x288 with 1 Axes>"
      ]
     },
     "metadata": {
      "needs_background": "light"
     },
     "output_type": "display_data"
    }
   ],
   "source": [
    "plt.plot(1-fpr_dnn,tpr_dnn,label=\"DNN\")\n",
    "plt.plot(1-fpr_cnn,tpr_cnn,label=\"CNN\")\n",
    "plt.xlabel(\"pi0 efficiency\")\n",
    "plt.ylabel(\"photon efficiency\")\n",
    "plt.legend();\n",
    "\n",
    "print(\"DNN:\")\n",
    "print(\"pi0 rejection rate at 90% photon efficiency:\",np.interp(0.9,tpr_dnn,1-fpr_dnn))\n",
    "print(\"photon rejection rate at 90% pi0 efficiency:\",np.interp(0.1,fpr_dnn,tpr_dnn))\n",
    "print(\"\")\n",
    "print(\"CNN:\")\n",
    "print(\"pi0 rejection rate at 90% photon efficiency:\",np.interp(0.9,tpr_cnn,1-fpr_cnn))\n",
    "print(\"photon rejection rate at 90% pi0 efficiency:\",np.interp(0.1,fpr_cnn,tpr_cnn))"
   ]
  },
  {
   "cell_type": "code",
   "execution_count": null,
   "id": "3bbed6db",
   "metadata": {},
   "outputs": [],
   "source": []
  }
 ],
 "metadata": {
  "kernelspec": {
   "display_name": "Python 3 (ipykernel)",
   "language": "python",
   "name": "python3"
  },
  "language_info": {
   "codemirror_mode": {
    "name": "ipython",
    "version": 3
   },
   "file_extension": ".py",
   "mimetype": "text/x-python",
   "name": "python",
   "nbconvert_exporter": "python",
   "pygments_lexer": "ipython3",
   "version": "3.10.6"
  }
 },
 "nbformat": 4,
 "nbformat_minor": 5
}
