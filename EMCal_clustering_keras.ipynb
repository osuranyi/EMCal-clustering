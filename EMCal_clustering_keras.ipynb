{
 "cells": [
  {
   "cell_type": "markdown",
   "id": "a4f77b1c",
   "metadata": {},
   "source": [
    "# EMCal clustering with Tensorflow/Keras"
   ]
  },
  {
   "cell_type": "markdown",
   "id": "3fa6d359",
   "metadata": {},
   "source": [
    "## 1. Preprocess data"
   ]
  },
  {
   "cell_type": "code",
   "execution_count": 1,
   "id": "fb4dfe2f",
   "metadata": {},
   "outputs": [],
   "source": [
    "import numpy as np\n",
    "import matplotlib.pyplot as plt\n",
    "import uproot"
   ]
  },
  {
   "cell_type": "code",
   "execution_count": 2,
   "id": "e48f0cd7",
   "metadata": {},
   "outputs": [],
   "source": [
    "N = 20000\n",
    "\n",
    "file = uproot.open('data/merged_20000_evts.root')\n",
    "tree = file['ttree']\n",
    "\n",
    "\n",
    "pid = tree['truthpar_id'].array(library='np', entry_stop=N)\n",
    "px = tree['truthpar_px'].array(library='np', entry_stop=N)\n",
    "py = tree['truthpar_py'].array(library='np', entry_stop=N)\n",
    "pz = tree['truthpar_pz'].array(library='np', entry_stop=N)\n",
    "\n",
    "pid = np.concatenate(pid,axis=0)\n",
    "pid = (pid == 22).astype(int)\n",
    "\n",
    "px = np.concatenate(px,axis=0)\n",
    "py = np.concatenate(py,axis=0)\n",
    "pz = np.concatenate(pz,axis=0)"
   ]
  },
  {
   "cell_type": "code",
   "execution_count": 3,
   "id": "400d0442",
   "metadata": {},
   "outputs": [],
   "source": [
    "pt = []\n",
    "eta = []\n",
    "phi = []\n",
    "\n",
    "for i in range(N):\n",
    "    pt.append(np.sqrt(px[i]*px[i]+py[i]*py[i]+pz[i]*pz[i]))\n",
    "    p = np.sqrt(px[i]*px[i]+py[i]*py[i]+pz[i]*pz[i])\n",
    "    eta.append(0.5 * np.log((p + pz[i]) / (p - pz[i])))\n",
    "    phi.append(np.arctan2(py[i],px[i]))\n",
    "    \n",
    "pt = np.array(pt)\n",
    "eta = np.array(eta)\n",
    "phi = np.array(phi)"
   ]
  },
  {
   "cell_type": "code",
   "execution_count": 4,
   "id": "2030dc77",
   "metadata": {},
   "outputs": [],
   "source": [
    "e_tow = tree['emcalen'].array(library='np', entry_stop=N)\n",
    "eta_tow = tree['emcalet'].array(library='np', entry_stop=N)\n",
    "phi_tow = tree['emcalph'].array(library='np', entry_stop=N)"
   ]
  },
  {
   "cell_type": "code",
   "execution_count": 5,
   "id": "8bbbca9f",
   "metadata": {},
   "outputs": [],
   "source": [
    "eta_values = set()\n",
    "\n",
    "for et in eta_tow:\n",
    "    eta_values = eta_values.union(set(et))\n",
    "    \n",
    "eta_values = list(eta_values)\n",
    "eta_values.sort()\n",
    "\n",
    "eta_dict = dict()\n",
    "\n",
    "for i,et in enumerate(eta_values):\n",
    "    eta_dict[et] = i"
   ]
  },
  {
   "cell_type": "code",
   "execution_count": 6,
   "id": "69930a3a",
   "metadata": {},
   "outputs": [],
   "source": [
    "phi_values = set()\n",
    "\n",
    "for ph in phi_tow:\n",
    "    phi_values = phi_values.union(set(ph))\n",
    "    \n",
    "phi_values = list(phi_values)\n",
    "phi_values.sort()\n",
    "\n",
    "phi_dict = dict()\n",
    "\n",
    "for i,ph in enumerate(phi_values):\n",
    "    phi_dict[ph] = i"
   ]
  },
  {
   "cell_type": "code",
   "execution_count": 7,
   "id": "ad50869f",
   "metadata": {},
   "outputs": [],
   "source": [
    "ieta_tow = []\n",
    "iphi_tow = [] \n",
    "\n",
    "for et,ph in zip(eta_tow,phi_tow):\n",
    "    ieta_event = []\n",
    "    iphi_event = []\n",
    "    for e,p in zip(et,ph):\n",
    "        ieta_event.append(eta_dict[e])\n",
    "        iphi_event.append(phi_dict[p])\n",
    "    ieta_tow.append(np.array(ieta_event))\n",
    "    iphi_tow.append(np.array(iphi_event))\n",
    "    \n",
    "ieta_tow = np.array(ieta_tow,dtype=object)\n",
    "iphi_tow = np.array(iphi_tow,dtype=object)"
   ]
  },
  {
   "cell_type": "code",
   "execution_count": 8,
   "id": "a99c2d90",
   "metadata": {},
   "outputs": [],
   "source": [
    "seed_e = np.zeros(N)\n",
    "seed_eta = np.zeros(N)\n",
    "seed_ieta = np.zeros(N,dtype=int)\n",
    "seed_phi = np.zeros(N)\n",
    "seed_iphi = np.zeros(N,dtype=int)\n",
    "\n",
    "nmax_e = np.zeros(N)\n",
    "nmax_eta = np.zeros(N)\n",
    "nmax_ieta = np.zeros(N,dtype=int)\n",
    "nmax_phi = np.zeros(N)\n",
    "nmax_iphi = np.zeros(N,dtype=int)\n",
    "\n",
    "i = 0\n",
    "for e,et,ph in zip(e_tow,eta_tow,phi_tow):\n",
    "    e_copy = e.copy()\n",
    "    e_copy.sort()\n",
    "    seed_e[i] = e_copy[-1]\n",
    "    seed_index = list(e).index(seed_e[i])\n",
    "    seed_eta[i] = et[seed_index]\n",
    "    seed_ieta[i] = eta_dict[seed_eta[i]]\n",
    "    seed_phi[i] = ph[seed_index]\n",
    "    seed_iphi[i] = phi_dict[seed_phi[i]]\n",
    "    \n",
    "    nmax_e[i] = e_copy[-2]\n",
    "    nmax_index = list(e).index(nmax_e[i])\n",
    "    nmax_eta[i] = et[nmax_index]\n",
    "    nmax_ieta[i] = eta_dict[nmax_eta[i]]\n",
    "    nmax_phi[i] = ph[nmax_index]\n",
    "    nmax_iphi[i] = phi_dict[nmax_phi[i]]\n",
    "    \n",
    "    i += 1"
   ]
  },
  {
   "cell_type": "code",
   "execution_count": 9,
   "id": "40af7223",
   "metadata": {},
   "outputs": [],
   "source": [
    "clusters = np.zeros((N,25),dtype=float)\n",
    "clusters7x7 = np.zeros((N,49),dtype=float)\n",
    "clusters9x9 = np.zeros((N,81),dtype=float)\n",
    "clusters19x19 = np.zeros((N,19*19),dtype=float)\n",
    "\n",
    "clusters_2d = np.zeros((N,5,5),dtype=float)\n",
    "clusters9x9_2d = np.zeros((N,9,9),dtype=float)\n",
    "clusters19x19_2d = np.zeros((N,19,19),dtype=float)\n",
    "\n",
    "for i in range(N):\n",
    "    if seed_e[i] < 0.1 or seed_ieta[i] < 2 or seed_ieta[i] > 93:\n",
    "        continue\n",
    "    \n",
    "    for iet in range(0,5):\n",
    "        for iph in range(0,5):\n",
    "            index = np.where((ieta_tow[i] == iet+seed_ieta[i]-2) & (iphi_tow[i] == (iph+seed_iphi[i]-2) % 256))[0]\n",
    "            if len(index) == 1:\n",
    "                clusters[i][iet + iph*5] = e_tow[i][index]/seed_e[i]\n",
    "                clusters_2d[i][iet][iph] = e_tow[i][index]/seed_e[i]\n",
    "            else:\n",
    "                clusters[i][iet + iph*5] = 0\n",
    "                clusters_2d[i][iet][iph] = 0\n",
    "     \n",
    "    for iet in range(0,7):\n",
    "        for iph in range(0,7):\n",
    "            index = np.where((ieta_tow[i] == iet+seed_ieta[i]-3) & (iphi_tow[i] == (iph+seed_iphi[i]-3) % 256))[0]\n",
    "            if len(index) == 1:\n",
    "                clusters7x7[i][iet + iph*7] = e_tow[i][index]/seed_e[i]\n",
    "            else:\n",
    "                clusters7x7[i][iet + iph*7] = 0\n",
    "                \n",
    "    for iet in range(0,9):\n",
    "        for iph in range(0,9):\n",
    "            index = np.where((ieta_tow[i] == iet+seed_ieta[i]-4) & (iphi_tow[i] == (iph+seed_iphi[i]-4) % 256))[0]\n",
    "            if len(index) == 1:\n",
    "                clusters9x9[i][iet + iph*9] = e_tow[i][index]/seed_e[i]\n",
    "                clusters9x9_2d[i][iet][iph] = e_tow[i][index]/seed_e[i]\n",
    "            else:\n",
    "                clusters9x9[i][iet + iph*9] = 0\n",
    "                clusters9x9_2d[i][iet][iph] = 0\n",
    "                \n",
    "    for iet in range(0,19):\n",
    "        for iph in range(0,19):\n",
    "            index = np.where((ieta_tow[i] == iet+seed_ieta[i]-9) & (iphi_tow[i] == (iph+seed_iphi[i]-9) % 256))[0]\n",
    "            if len(index) == 1:\n",
    "                clusters19x19[i][iet + iph*19] = e_tow[i][index]/seed_e[i]\n",
    "                clusters19x19_2d[i][iet][iph] = e_tow[i][index]/seed_e[i]\n",
    "            else:\n",
    "                clusters19x19[i][iet + iph*19] = 0\n",
    "                clusters19x19_2d[i][iet][iph] = 0"
   ]
  },
  {
   "cell_type": "code",
   "execution_count": 34,
   "id": "536322df",
   "metadata": {},
   "outputs": [],
   "source": [
    "condition = (seed_e > 0.1) & (seed_ieta > 8) & (seed_ieta < 88)\n",
    "pidNN_cleaned = pid[np.where(condition)[0]]\n",
    "clusters5x5_cleaned = clusters[np.where(condition)[0]]\n",
    "clusters7x7_cleaned = clusters7x7[np.where(condition)[0]]\n",
    "clusters9x9_cleaned = clusters9x9[np.where(condition)[0]]\n",
    "clusters19x19_cleaned = clusters19x19[np.where(condition)[0]]\n",
    "\n",
    "clusters5x5_2d_cleaned = clusters_2d[np.where(condition)[0]]\n",
    "clusters9x9_2d_cleaned = clusters9x9_2d[np.where(condition)[0]]\n",
    "clusters19x19_2d_cleaned = clusters19x19_2d[np.where(condition)[0]]"
   ]
  },
  {
   "cell_type": "code",
   "execution_count": 11,
   "id": "4596ba73",
   "metadata": {},
   "outputs": [
    {
     "data": {
      "text/plain": [
       "<matplotlib.image.AxesImage at 0x7f677cda6cb0>"
      ]
     },
     "execution_count": 11,
     "metadata": {},
     "output_type": "execute_result"
    },
    {
     "data": {
      "image/png": "[encoded data removed]",
      "text/plain": [
       "<Figure size 432x288 with 1 Axes>"
      ]
     },
     "metadata": {
      "needs_background": "light"
     },
     "output_type": "display_data"
    }
   ],
   "source": [
    "plt.imshow(clusters9x9_2d_cleaned[0])"
   ]
  },
  {
   "cell_type": "markdown",
   "id": "73447f76",
   "metadata": {},
   "source": [
    "## 2. Build Keras model"
   ]
  },
  {
   "cell_type": "code",
   "execution_count": 12,
   "id": "ea3c6155",
   "metadata": {},
   "outputs": [],
   "source": [
    "import os\n",
    "os.environ['TF_CPP_MIN_LOG_LEVEL'] = '2'"
   ]
  },
  {
   "cell_type": "code",
   "execution_count": 13,
   "id": "46378eea",
   "metadata": {},
   "outputs": [
    {
     "name": "stderr",
     "output_type": "stream",
     "text": [
      "2022-09-30 20:59:39.916568: E tensorflow/stream_executor/cuda/cuda_blas.cc:2981] Unable to register cuBLAS factory: Attempting to register factory for plugin cuBLAS when one has already been registered\n"
     ]
    }
   ],
   "source": [
    "import tensorflow as tf\n",
    "from tensorflow import keras\n",
    "from keras import layers\n",
    "from keras import models"
   ]
  },
  {
   "cell_type": "code",
   "execution_count": 14,
   "id": "6eab766e",
   "metadata": {},
   "outputs": [],
   "source": [
    "model = models.Sequential(\n",
    "    [\n",
    "        keras.Input(shape=(9*9,)),\n",
    "        layers.Dense(16,activation=\"relu\"),\n",
    "        layers.Dense(16,activation=\"relu\"),\n",
    "        layers.Dense(1, activation='sigmoid')\n",
    "    ]\n",
    "\n",
    ")\n",
    "\n",
    "model.compile(loss=\"binary_crossentropy\", optimizer=\"adam\", metrics=[\"accuracy\"])"
   ]
  },
  {
   "cell_type": "markdown",
   "id": "33f064ee",
   "metadata": {},
   "source": [
    "## 3. Test Keras model"
   ]
  },
  {
   "cell_type": "code",
   "execution_count": 15,
   "id": "2dda9dae",
   "metadata": {},
   "outputs": [
    {
     "name": "stdout",
     "output_type": "stream",
     "text": [
      "Epoch 1/50\n",
      "296/296 [==============================] - 1s 2ms/step - loss: 0.6349 - accuracy: 0.6780 - val_loss: 0.5626 - val_accuracy: 0.7265\n",
      "Epoch 2/50\n",
      "296/296 [==============================] - 0s 1ms/step - loss: 0.5085 - accuracy: 0.7691 - val_loss: 0.4792 - val_accuracy: 0.7835\n",
      "Epoch 3/50\n",
      "296/296 [==============================] - 0s 1ms/step - loss: 0.4594 - accuracy: 0.8022 - val_loss: 0.4397 - val_accuracy: 0.8091\n",
      "Epoch 4/50\n",
      "296/296 [==============================] - 0s 1ms/step - loss: 0.4325 - accuracy: 0.8216 - val_loss: 0.4143 - val_accuracy: 0.8253\n",
      "Epoch 5/50\n",
      "296/296 [==============================] - 0s 1ms/step - loss: 0.4126 - accuracy: 0.8302 - val_loss: 0.3959 - val_accuracy: 0.8262\n",
      "Epoch 6/50\n",
      "296/296 [==============================] - 0s 1ms/step - loss: 0.3951 - accuracy: 0.8377 - val_loss: 0.3821 - val_accuracy: 0.8367\n",
      "Epoch 7/50\n",
      "296/296 [==============================] - 0s 1ms/step - loss: 0.3791 - accuracy: 0.8456 - val_loss: 0.3636 - val_accuracy: 0.8528\n",
      "Epoch 8/50\n",
      "296/296 [==============================] - 0s 1ms/step - loss: 0.3653 - accuracy: 0.8529 - val_loss: 0.3454 - val_accuracy: 0.8632\n",
      "Epoch 9/50\n",
      "296/296 [==============================] - 0s 1ms/step - loss: 0.3518 - accuracy: 0.8600 - val_loss: 0.3366 - val_accuracy: 0.8642\n",
      "Epoch 10/50\n",
      "296/296 [==============================] - 0s 1ms/step - loss: 0.3405 - accuracy: 0.8660 - val_loss: 0.3223 - val_accuracy: 0.8708\n",
      "Epoch 11/50\n",
      "296/296 [==============================] - 0s 1ms/step - loss: 0.3327 - accuracy: 0.8707 - val_loss: 0.3179 - val_accuracy: 0.8756\n",
      "Epoch 12/50\n",
      "296/296 [==============================] - 0s 1ms/step - loss: 0.3220 - accuracy: 0.8778 - val_loss: 0.3077 - val_accuracy: 0.8841\n",
      "Epoch 13/50\n",
      "296/296 [==============================] - 0s 1ms/step - loss: 0.3176 - accuracy: 0.8798 - val_loss: 0.3011 - val_accuracy: 0.8870\n",
      "Epoch 14/50\n",
      "296/296 [==============================] - 0s 1ms/step - loss: 0.3106 - accuracy: 0.8841 - val_loss: 0.2984 - val_accuracy: 0.8794\n",
      "Epoch 15/50\n",
      "296/296 [==============================] - 0s 1ms/step - loss: 0.3049 - accuracy: 0.8869 - val_loss: 0.2892 - val_accuracy: 0.8927\n",
      "Epoch 16/50\n",
      "296/296 [==============================] - 0s 1ms/step - loss: 0.2998 - accuracy: 0.8902 - val_loss: 0.2869 - val_accuracy: 0.8908\n",
      "Epoch 17/50\n",
      "296/296 [==============================] - 0s 1ms/step - loss: 0.2959 - accuracy: 0.8903 - val_loss: 0.2866 - val_accuracy: 0.8927\n",
      "Epoch 18/50\n",
      "296/296 [==============================] - 0s 1ms/step - loss: 0.2929 - accuracy: 0.8926 - val_loss: 0.2804 - val_accuracy: 0.8936\n",
      "Epoch 19/50\n",
      "296/296 [==============================] - 0s 1ms/step - loss: 0.2891 - accuracy: 0.8950 - val_loss: 0.2772 - val_accuracy: 0.8974\n",
      "Epoch 20/50\n",
      "296/296 [==============================] - 0s 1ms/step - loss: 0.2857 - accuracy: 0.8964 - val_loss: 0.2767 - val_accuracy: 0.8984\n",
      "Epoch 21/50\n",
      "296/296 [==============================] - 0s 1ms/step - loss: 0.2826 - accuracy: 0.8980 - val_loss: 0.2710 - val_accuracy: 0.8974\n",
      "Epoch 22/50\n",
      "296/296 [==============================] - 0s 1ms/step - loss: 0.2809 - accuracy: 0.8984 - val_loss: 0.2714 - val_accuracy: 0.8946\n",
      "Epoch 23/50\n",
      "296/296 [==============================] - 0s 1ms/step - loss: 0.2776 - accuracy: 0.9009 - val_loss: 0.2703 - val_accuracy: 0.9012\n",
      "Epoch 24/50\n",
      "296/296 [==============================] - 0s 1ms/step - loss: 0.2756 - accuracy: 0.9021 - val_loss: 0.2801 - val_accuracy: 0.8955\n",
      "Epoch 25/50\n",
      "296/296 [==============================] - 0s 1ms/step - loss: 0.2737 - accuracy: 0.9035 - val_loss: 0.2658 - val_accuracy: 0.9003\n",
      "Epoch 26/50\n",
      "296/296 [==============================] - 0s 1ms/step - loss: 0.2710 - accuracy: 0.9035 - val_loss: 0.2629 - val_accuracy: 0.9050\n",
      "Epoch 27/50\n",
      "296/296 [==============================] - 0s 1ms/step - loss: 0.2688 - accuracy: 0.9028 - val_loss: 0.2618 - val_accuracy: 0.9022\n",
      "Epoch 28/50\n",
      "296/296 [==============================] - 0s 1ms/step - loss: 0.2678 - accuracy: 0.9058 - val_loss: 0.2622 - val_accuracy: 0.9079\n",
      "Epoch 29/50\n",
      "296/296 [==============================] - 0s 1ms/step - loss: 0.2668 - accuracy: 0.9079 - val_loss: 0.2585 - val_accuracy: 0.9107\n",
      "Epoch 30/50\n",
      "296/296 [==============================] - 0s 1ms/step - loss: 0.2654 - accuracy: 0.9060 - val_loss: 0.2580 - val_accuracy: 0.9060\n",
      "Epoch 31/50\n",
      "296/296 [==============================] - 0s 1ms/step - loss: 0.2631 - accuracy: 0.9084 - val_loss: 0.2602 - val_accuracy: 0.9060\n",
      "Epoch 32/50\n",
      "296/296 [==============================] - 0s 1ms/step - loss: 0.2619 - accuracy: 0.9079 - val_loss: 0.2566 - val_accuracy: 0.9136\n",
      "Epoch 33/50\n",
      "296/296 [==============================] - 0s 1ms/step - loss: 0.2614 - accuracy: 0.9077 - val_loss: 0.2565 - val_accuracy: 0.9117\n",
      "Epoch 34/50\n",
      "296/296 [==============================] - 0s 1ms/step - loss: 0.2584 - accuracy: 0.9091 - val_loss: 0.2527 - val_accuracy: 0.9126\n",
      "Epoch 35/50\n",
      "296/296 [==============================] - 0s 1ms/step - loss: 0.2584 - accuracy: 0.9104 - val_loss: 0.2592 - val_accuracy: 0.9050\n",
      "Epoch 36/50\n",
      "296/296 [==============================] - 0s 1ms/step - loss: 0.2571 - accuracy: 0.9105 - val_loss: 0.2604 - val_accuracy: 0.9079\n",
      "Epoch 37/50\n",
      "296/296 [==============================] - 0s 1ms/step - loss: 0.2562 - accuracy: 0.9122 - val_loss: 0.2540 - val_accuracy: 0.9107\n",
      "Epoch 38/50\n",
      "296/296 [==============================] - 0s 1ms/step - loss: 0.2537 - accuracy: 0.9127 - val_loss: 0.2681 - val_accuracy: 0.9060\n",
      "Epoch 39/50\n",
      "296/296 [==============================] - 0s 1ms/step - loss: 0.2554 - accuracy: 0.9097 - val_loss: 0.2594 - val_accuracy: 0.9107\n",
      "Epoch 40/50\n",
      "296/296 [==============================] - 0s 1ms/step - loss: 0.2524 - accuracy: 0.9125 - val_loss: 0.2525 - val_accuracy: 0.9117\n",
      "Epoch 41/50\n",
      "296/296 [==============================] - 0s 1ms/step - loss: 0.2501 - accuracy: 0.9144 - val_loss: 0.2545 - val_accuracy: 0.9126\n",
      "Epoch 42/50\n",
      "296/296 [==============================] - 0s 1ms/step - loss: 0.2512 - accuracy: 0.9123 - val_loss: 0.2515 - val_accuracy: 0.9136\n",
      "Epoch 43/50\n",
      "296/296 [==============================] - 0s 1ms/step - loss: 0.2499 - accuracy: 0.9138 - val_loss: 0.2619 - val_accuracy: 0.9060\n",
      "Epoch 44/50\n",
      "296/296 [==============================] - 0s 1ms/step - loss: 0.2490 - accuracy: 0.9150 - val_loss: 0.2562 - val_accuracy: 0.9164\n",
      "Epoch 45/50\n",
      "296/296 [==============================] - 0s 1ms/step - loss: 0.2475 - accuracy: 0.9143 - val_loss: 0.2559 - val_accuracy: 0.9117\n",
      "Epoch 46/50\n",
      "296/296 [==============================] - 0s 1ms/step - loss: 0.2476 - accuracy: 0.9167 - val_loss: 0.2508 - val_accuracy: 0.9136\n",
      "Epoch 47/50\n",
      "296/296 [==============================] - 0s 1ms/step - loss: 0.2474 - accuracy: 0.9148 - val_loss: 0.2507 - val_accuracy: 0.9155\n",
      "Epoch 48/50\n",
      "296/296 [==============================] - 0s 1ms/step - loss: 0.2461 - accuracy: 0.9157 - val_loss: 0.2535 - val_accuracy: 0.9174\n",
      "Epoch 49/50\n",
      "296/296 [==============================] - 0s 1ms/step - loss: 0.2460 - accuracy: 0.9143 - val_loss: 0.2552 - val_accuracy: 0.9117\n",
      "Epoch 50/50\n",
      "296/296 [==============================] - 0s 1ms/step - loss: 0.2440 - accuracy: 0.9177 - val_loss: 0.2488 - val_accuracy: 0.9174\n"
     ]
    },
    {
     "data": {
      "text/plain": [
       "<keras.callbacks.History at 0x7f666dfeae60>"
      ]
     },
     "execution_count": 15,
     "metadata": {},
     "output_type": "execute_result"
    }
   ],
   "source": [
    "from sklearn.model_selection import train_test_split\n",
    "\n",
    "X_train, X_test, y_train, y_test = train_test_split(clusters9x9_cleaned, pidNN_cleaned, test_size=0.33, random_state=42)\n",
    "\n",
    "model.fit(X_train, y_train, batch_size=32, epochs=50, validation_split=0.1)"
   ]
  },
  {
   "cell_type": "code",
   "execution_count": 16,
   "id": "8c03328f",
   "metadata": {},
   "outputs": [
    {
     "name": "stdout",
     "output_type": "stream",
     "text": [
      "162/162 [==============================] - 0s 835us/step - loss: 0.2739 - accuracy: 0.9080\n"
     ]
    },
    {
     "data": {
      "text/plain": [
       "[0.27388614416122437, 0.9079861044883728]"
      ]
     },
     "execution_count": 16,
     "metadata": {},
     "output_type": "execute_result"
    }
   ],
   "source": [
    "model.evaluate(X_test, y_test)"
   ]
  },
  {
   "cell_type": "code",
   "execution_count": 17,
   "id": "52c65874",
   "metadata": {},
   "outputs": [
    {
     "name": "stdout",
     "output_type": "stream",
     "text": [
      "162/162 [==============================] - 0s 605us/step\n"
     ]
    }
   ],
   "source": [
    "from sklearn import metrics\n",
    "\n",
    "fpr_dnn, tpr_dnn, thresholds = metrics.roc_curve(y_test, model.predict(X_test))"
   ]
  },
  {
   "cell_type": "markdown",
   "id": "c7c360c7",
   "metadata": {},
   "source": [
    "## 4. Convolutional neural network models"
   ]
  },
  {
   "cell_type": "code",
   "execution_count": 18,
   "id": "b9fd459b",
   "metadata": {},
   "outputs": [],
   "source": [
    "model2 = keras.Sequential(\n",
    "    [\n",
    "        keras.Input(shape=(19,19,1)),\n",
    "        layers.Conv2D(30, kernel_size=(3, 3), activation=\"relu\"),\n",
    "        layers.Conv2D(15, kernel_size=(3, 3), activation=\"relu\"),\n",
    "        layers.MaxPooling2D(pool_size=(2, 2)),\n",
    "        layers.Flatten(),\n",
    "        layers.Dense(64),\n",
    "        layers.Dropout(0.3),\n",
    "        layers.Dense(1, activation=\"sigmoid\"),\n",
    "    ]\n",
    ")\n",
    "\n",
    "model2.compile(loss=\"binary_crossentropy\", optimizer=\"adam\", metrics=[\"accuracy\"])"
   ]
  },
  {
   "cell_type": "code",
   "execution_count": 19,
   "id": "4be2d9ae",
   "metadata": {},
   "outputs": [
    {
     "name": "stdout",
     "output_type": "stream",
     "text": [
      "Epoch 1/50\n",
      "296/296 [==============================] - 3s 11ms/step - loss: 0.5634 - accuracy: 0.7157 - val_loss: 0.4614 - val_accuracy: 0.7987\n",
      "Epoch 2/50\n",
      "296/296 [==============================] - 3s 9ms/step - loss: 0.4337 - accuracy: 0.8188 - val_loss: 0.3757 - val_accuracy: 0.8414\n",
      "Epoch 3/50\n",
      "296/296 [==============================] - 3s 9ms/step - loss: 0.3755 - accuracy: 0.8553 - val_loss: 0.3257 - val_accuracy: 0.8727\n",
      "Epoch 4/50\n",
      "296/296 [==============================] - 3s 9ms/step - loss: 0.3385 - accuracy: 0.8786 - val_loss: 0.3198 - val_accuracy: 0.8946\n",
      "Epoch 5/50\n",
      "296/296 [==============================] - 3s 9ms/step - loss: 0.3269 - accuracy: 0.8785 - val_loss: 0.2850 - val_accuracy: 0.9012\n",
      "Epoch 6/50\n",
      "296/296 [==============================] - 3s 9ms/step - loss: 0.3148 - accuracy: 0.8882 - val_loss: 0.2827 - val_accuracy: 0.9069\n",
      "Epoch 7/50\n",
      "296/296 [==============================] - 3s 10ms/step - loss: 0.2989 - accuracy: 0.8947 - val_loss: 0.2798 - val_accuracy: 0.8993\n",
      "Epoch 8/50\n",
      "296/296 [==============================] - 3s 11ms/step - loss: 0.3021 - accuracy: 0.8940 - val_loss: 0.2716 - val_accuracy: 0.9098\n",
      "Epoch 9/50\n",
      "296/296 [==============================] - 4s 13ms/step - loss: 0.2909 - accuracy: 0.8976 - val_loss: 0.2638 - val_accuracy: 0.9193\n",
      "Epoch 10/50\n",
      "296/296 [==============================] - 4s 15ms/step - loss: 0.2834 - accuracy: 0.9041 - val_loss: 0.2979 - val_accuracy: 0.8946\n",
      "Epoch 11/50\n",
      "296/296 [==============================] - 4s 13ms/step - loss: 0.2784 - accuracy: 0.9017 - val_loss: 0.2821 - val_accuracy: 0.8936\n",
      "Epoch 12/50\n",
      "296/296 [==============================] - 3s 11ms/step - loss: 0.2806 - accuracy: 0.8998 - val_loss: 0.2592 - val_accuracy: 0.9107\n",
      "Epoch 13/50\n",
      "296/296 [==============================] - 3s 9ms/step - loss: 0.2727 - accuracy: 0.9030 - val_loss: 0.2667 - val_accuracy: 0.9117\n",
      "Epoch 14/50\n",
      "296/296 [==============================] - 3s 11ms/step - loss: 0.2706 - accuracy: 0.9067 - val_loss: 0.2772 - val_accuracy: 0.9126\n",
      "Epoch 15/50\n",
      "296/296 [==============================] - 3s 11ms/step - loss: 0.2621 - accuracy: 0.9074 - val_loss: 0.2517 - val_accuracy: 0.9164\n",
      "Epoch 16/50\n",
      "296/296 [==============================] - 4s 12ms/step - loss: 0.2631 - accuracy: 0.9073 - val_loss: 0.2797 - val_accuracy: 0.9107\n",
      "Epoch 17/50\n",
      "296/296 [==============================] - 3s 11ms/step - loss: 0.2591 - accuracy: 0.9113 - val_loss: 0.2587 - val_accuracy: 0.9136\n",
      "Epoch 18/50\n",
      "296/296 [==============================] - 3s 10ms/step - loss: 0.2587 - accuracy: 0.9128 - val_loss: 0.2496 - val_accuracy: 0.9212\n",
      "Epoch 19/50\n",
      "296/296 [==============================] - 3s 10ms/step - loss: 0.2543 - accuracy: 0.9139 - val_loss: 0.2455 - val_accuracy: 0.9193\n",
      "Epoch 20/50\n",
      "296/296 [==============================] - 3s 10ms/step - loss: 0.2582 - accuracy: 0.9109 - val_loss: 0.2714 - val_accuracy: 0.9098\n",
      "Epoch 21/50\n",
      "296/296 [==============================] - 3s 10ms/step - loss: 0.2525 - accuracy: 0.9115 - val_loss: 0.2506 - val_accuracy: 0.9145\n",
      "Epoch 22/50\n",
      "296/296 [==============================] - 3s 10ms/step - loss: 0.2501 - accuracy: 0.9142 - val_loss: 0.2605 - val_accuracy: 0.9117\n",
      "Epoch 23/50\n",
      "296/296 [==============================] - 3s 10ms/step - loss: 0.2502 - accuracy: 0.9131 - val_loss: 0.2797 - val_accuracy: 0.8974\n",
      "Epoch 24/50\n",
      "296/296 [==============================] - 3s 11ms/step - loss: 0.2484 - accuracy: 0.9138 - val_loss: 0.2517 - val_accuracy: 0.9174\n",
      "Epoch 25/50\n",
      "296/296 [==============================] - 3s 11ms/step - loss: 0.2477 - accuracy: 0.9168 - val_loss: 0.2448 - val_accuracy: 0.9221\n",
      "Epoch 26/50\n",
      "296/296 [==============================] - 3s 10ms/step - loss: 0.2426 - accuracy: 0.9204 - val_loss: 0.2546 - val_accuracy: 0.9174\n",
      "Epoch 27/50\n",
      "296/296 [==============================] - 3s 10ms/step - loss: 0.2395 - accuracy: 0.9188 - val_loss: 0.2462 - val_accuracy: 0.9155\n",
      "Epoch 28/50\n",
      "296/296 [==============================] - 3s 9ms/step - loss: 0.2390 - accuracy: 0.9191 - val_loss: 0.2426 - val_accuracy: 0.9183\n",
      "Epoch 29/50\n",
      "296/296 [==============================] - 3s 9ms/step - loss: 0.2318 - accuracy: 0.9243 - val_loss: 0.2416 - val_accuracy: 0.9202\n",
      "Epoch 30/50\n",
      "296/296 [==============================] - 3s 9ms/step - loss: 0.2339 - accuracy: 0.9211 - val_loss: 0.2408 - val_accuracy: 0.9193\n",
      "Epoch 31/50\n",
      "296/296 [==============================] - 3s 10ms/step - loss: 0.2404 - accuracy: 0.9171 - val_loss: 0.2500 - val_accuracy: 0.9126\n",
      "Epoch 32/50\n",
      "296/296 [==============================] - 3s 10ms/step - loss: 0.2316 - accuracy: 0.9225 - val_loss: 0.2432 - val_accuracy: 0.9221\n",
      "Epoch 33/50\n",
      "296/296 [==============================] - 4s 14ms/step - loss: 0.2326 - accuracy: 0.9214 - val_loss: 0.2480 - val_accuracy: 0.9202\n",
      "Epoch 34/50\n",
      "296/296 [==============================] - 3s 11ms/step - loss: 0.2297 - accuracy: 0.9223 - val_loss: 0.2674 - val_accuracy: 0.9079\n",
      "Epoch 35/50\n",
      "296/296 [==============================] - 3s 10ms/step - loss: 0.2292 - accuracy: 0.9218 - val_loss: 0.2526 - val_accuracy: 0.9212\n",
      "Epoch 36/50\n",
      "296/296 [==============================] - 3s 10ms/step - loss: 0.2236 - accuracy: 0.9246 - val_loss: 0.2471 - val_accuracy: 0.9183\n",
      "Epoch 37/50\n",
      "296/296 [==============================] - 3s 10ms/step - loss: 0.2242 - accuracy: 0.9262 - val_loss: 0.2702 - val_accuracy: 0.9136\n",
      "Epoch 38/50\n",
      "296/296 [==============================] - 3s 10ms/step - loss: 0.2259 - accuracy: 0.9260 - val_loss: 0.2410 - val_accuracy: 0.9212\n",
      "Epoch 39/50\n",
      "296/296 [==============================] - 3s 10ms/step - loss: 0.2200 - accuracy: 0.9273 - val_loss: 0.2856 - val_accuracy: 0.9136\n",
      "Epoch 40/50\n",
      "296/296 [==============================] - 3s 10ms/step - loss: 0.2201 - accuracy: 0.9255 - val_loss: 0.2639 - val_accuracy: 0.9155\n",
      "Epoch 41/50\n",
      "296/296 [==============================] - 3s 10ms/step - loss: 0.2212 - accuracy: 0.9258 - val_loss: 0.2334 - val_accuracy: 0.9221\n",
      "Epoch 42/50\n",
      "296/296 [==============================] - 3s 10ms/step - loss: 0.2154 - accuracy: 0.9276 - val_loss: 0.2373 - val_accuracy: 0.9288\n",
      "Epoch 43/50\n",
      "296/296 [==============================] - 3s 9ms/step - loss: 0.2128 - accuracy: 0.9296 - val_loss: 0.2448 - val_accuracy: 0.9183\n",
      "Epoch 44/50\n",
      "296/296 [==============================] - 3s 10ms/step - loss: 0.2090 - accuracy: 0.9320 - val_loss: 0.2612 - val_accuracy: 0.9183\n",
      "Epoch 45/50\n",
      "296/296 [==============================] - 3s 9ms/step - loss: 0.2105 - accuracy: 0.9311 - val_loss: 0.2376 - val_accuracy: 0.9221\n",
      "Epoch 46/50\n",
      "296/296 [==============================] - 3s 10ms/step - loss: 0.2065 - accuracy: 0.9315 - val_loss: 0.2427 - val_accuracy: 0.9221\n",
      "Epoch 47/50\n",
      "296/296 [==============================] - 3s 10ms/step - loss: 0.2083 - accuracy: 0.9286 - val_loss: 0.2430 - val_accuracy: 0.9231\n",
      "Epoch 48/50\n",
      "296/296 [==============================] - 3s 10ms/step - loss: 0.2054 - accuracy: 0.9328 - val_loss: 0.2494 - val_accuracy: 0.9193\n",
      "Epoch 49/50\n",
      "296/296 [==============================] - 3s 10ms/step - loss: 0.2202 - accuracy: 0.9290 - val_loss: 0.2413 - val_accuracy: 0.9193\n",
      "Epoch 50/50\n",
      "296/296 [==============================] - 3s 10ms/step - loss: 0.2085 - accuracy: 0.9307 - val_loss: 0.2428 - val_accuracy: 0.9202\n"
     ]
    },
    {
     "data": {
      "text/plain": [
       "<keras.callbacks.History at 0x7f6650749d50>"
      ]
     },
     "execution_count": 19,
     "metadata": {},
     "output_type": "execute_result"
    }
   ],
   "source": [
    "X_train, X_test, y_train, y_test = train_test_split(clusters19x19_2d_cleaned, pidNN_cleaned, test_size=0.33, random_state=42)\n",
    "\n",
    "model2.fit(X_train, y_train, batch_size=32, epochs=50, validation_split=0.1)"
   ]
  },
  {
   "cell_type": "code",
   "execution_count": 20,
   "id": "7a89634f",
   "metadata": {},
   "outputs": [
    {
     "name": "stdout",
     "output_type": "stream",
     "text": [
      "162/162 [==============================] - 1s 3ms/step - loss: 0.2513 - accuracy: 0.9313\n"
     ]
    },
    {
     "data": {
      "text/plain": [
       "[0.25132471323013306, 0.9313271641731262]"
      ]
     },
     "execution_count": 20,
     "metadata": {},
     "output_type": "execute_result"
    }
   ],
   "source": [
    "model2.evaluate(X_test, y_test)"
   ]
  },
  {
   "cell_type": "code",
   "execution_count": 21,
   "id": "dde43713",
   "metadata": {},
   "outputs": [
    {
     "name": "stdout",
     "output_type": "stream",
     "text": [
      "162/162 [==============================] - 0s 2ms/step\n"
     ]
    }
   ],
   "source": [
    "fpr_cnn, tpr_cnn, thresholds = metrics.roc_curve(y_test, model2.predict(X_test))"
   ]
  },
  {
   "cell_type": "code",
   "execution_count": 22,
   "id": "9ed30cba",
   "metadata": {},
   "outputs": [
    {
     "name": "stdout",
     "output_type": "stream",
     "text": [
      "DNN:\n",
      "pi0 rejection rate at 90% photon efficiency: 0.8928847641144625\n",
      "photon rejection rate at 90% pi0 efficiency: 0.8826020015396459\n",
      "\n",
      "CNN:\n",
      "pi0 rejection rate at 90% photon efficiency: 0.9265274555297757\n",
      "photon rejection rate at 90% pi0 efficiency: 0.9615088529638183\n"
     ]
    },
    {
     "data": {
      "image/png": "[encoded data removed]",
      "text/plain": [
       "<Figure size 432x288 with 1 Axes>"
      ]
     },
     "metadata": {
      "needs_background": "light"
     },
     "output_type": "display_data"
    }
   ],
   "source": [
    "plt.plot(1-fpr_dnn,tpr_dnn,label=\"DNN\")\n",
    "plt.plot(1-fpr_cnn,tpr_cnn,label=\"CNN\")\n",
    "plt.xlabel(\"pi0 efficiency\")\n",
    "plt.ylabel(\"photon efficiency\")\n",
    "plt.legend();\n",
    "\n",
    "print(\"DNN:\")\n",
    "print(\"pi0 rejection rate at 90% photon efficiency:\",np.interp(0.9,tpr_dnn,1-fpr_dnn))\n",
    "print(\"photon rejection rate at 90% pi0 efficiency:\",np.interp(0.1,fpr_dnn,tpr_dnn))\n",
    "print(\"\")\n",
    "print(\"CNN:\")\n",
    "print(\"pi0 rejection rate at 90% photon efficiency:\",np.interp(0.9,tpr_cnn,1-fpr_cnn))\n",
    "print(\"photon rejection rate at 90% pi0 efficiency:\",np.interp(0.1,fpr_cnn,tpr_cnn))"
   ]
  },
  {
   "cell_type": "markdown",
   "id": "53964f76",
   "metadata": {},
   "source": [
    "## 5. Classification using 5 x 5 "
   ]
  },
  {
   "cell_type": "code",
   "execution_count": 24,
   "id": "729b13aa",
   "metadata": {},
   "outputs": [],
   "source": [
    "model3 = models.Sequential(\n",
    "    [\n",
    "        layers.Input(shape=(5*5)),\n",
    "        layers.Dense(16,activation=\"relu\"),\n",
    "        layers.Dense(16,activation=\"relu\"),\n",
    "        layers.Dense(1, activation='sigmoid')\n",
    "    ]\n",
    "\n",
    ")\n",
    "\n",
    "model3.compile(loss=\"binary_crossentropy\", optimizer=\"adam\", metrics=[\"accuracy\"])"
   ]
  },
  {
   "cell_type": "code",
   "execution_count": 33,
   "id": "0ccd120a",
   "metadata": {},
   "outputs": [],
   "source": [
    "model4 = models.Sequential(\n",
    "    [\n",
    "        layers.Input(shape=(5,5,1)),\n",
    "        layers.Conv2D(30, kernel_size=(2, 2), activation=\"relu\"),\n",
    "        layers.Conv2D(15, kernel_size=(2, 2), activation=\"relu\"),\n",
    "        layers.MaxPooling2D(pool_size=(2, 2)),\n",
    "        layers.Flatten(),\n",
    "        layers.Dense(64),\n",
    "        layers.Dropout(0.3),\n",
    "        layers.Dense(1, activation=\"sigmoid\"),\n",
    "    ]\n",
    ")\n",
    "\n",
    "model4.compile(loss=\"binary_crossentropy\", optimizer=\"adam\", metrics=[\"accuracy\"])"
   ]
  },
  {
   "cell_type": "code",
   "execution_count": 41,
   "id": "c4bd955d",
   "metadata": {},
   "outputs": [
    {
     "name": "stdout",
     "output_type": "stream",
     "text": [
      "Epoch 1/50\n",
      "296/296 [==============================] - 0s 1ms/step - loss: 0.3261 - accuracy: 0.8727 - val_loss: 0.3253 - val_accuracy: 0.8746\n",
      "Epoch 2/50\n",
      "296/296 [==============================] - 0s 1ms/step - loss: 0.3233 - accuracy: 0.8755 - val_loss: 0.3286 - val_accuracy: 0.8775\n",
      "Epoch 3/50\n",
      "296/296 [==============================] - 0s 1ms/step - loss: 0.3260 - accuracy: 0.8718 - val_loss: 0.3244 - val_accuracy: 0.8737\n",
      "Epoch 4/50\n",
      "296/296 [==============================] - 0s 1ms/step - loss: 0.3240 - accuracy: 0.8741 - val_loss: 0.3275 - val_accuracy: 0.8765\n",
      "Epoch 5/50\n",
      "296/296 [==============================] - 0s 1ms/step - loss: 0.3232 - accuracy: 0.8730 - val_loss: 0.3222 - val_accuracy: 0.8756\n",
      "Epoch 6/50\n",
      "296/296 [==============================] - 0s 1ms/step - loss: 0.3229 - accuracy: 0.8742 - val_loss: 0.3252 - val_accuracy: 0.8756\n",
      "Epoch 7/50\n",
      "296/296 [==============================] - 0s 1ms/step - loss: 0.3223 - accuracy: 0.8765 - val_loss: 0.3267 - val_accuracy: 0.8689\n",
      "Epoch 8/50\n",
      "296/296 [==============================] - 0s 1ms/step - loss: 0.3234 - accuracy: 0.8737 - val_loss: 0.3260 - val_accuracy: 0.8775\n",
      "Epoch 9/50\n",
      "296/296 [==============================] - 0s 1ms/step - loss: 0.3225 - accuracy: 0.8746 - val_loss: 0.3301 - val_accuracy: 0.8708\n",
      "Epoch 10/50\n",
      "296/296 [==============================] - 0s 1ms/step - loss: 0.3211 - accuracy: 0.8746 - val_loss: 0.3266 - val_accuracy: 0.8756\n",
      "Epoch 11/50\n",
      "296/296 [==============================] - 0s 1ms/step - loss: 0.3213 - accuracy: 0.8763 - val_loss: 0.3263 - val_accuracy: 0.8765\n",
      "Epoch 12/50\n",
      "296/296 [==============================] - 0s 1ms/step - loss: 0.3215 - accuracy: 0.8737 - val_loss: 0.3314 - val_accuracy: 0.8822\n",
      "Epoch 13/50\n",
      "296/296 [==============================] - 0s 1ms/step - loss: 0.3217 - accuracy: 0.8750 - val_loss: 0.3288 - val_accuracy: 0.8718\n",
      "Epoch 14/50\n",
      "296/296 [==============================] - 0s 1ms/step - loss: 0.3222 - accuracy: 0.8755 - val_loss: 0.3320 - val_accuracy: 0.8727\n",
      "Epoch 15/50\n",
      "296/296 [==============================] - 0s 983us/step - loss: 0.3202 - accuracy: 0.8753 - val_loss: 0.3268 - val_accuracy: 0.8746\n",
      "Epoch 16/50\n",
      "296/296 [==============================] - 0s 1ms/step - loss: 0.3204 - accuracy: 0.8753 - val_loss: 0.3332 - val_accuracy: 0.8699\n",
      "Epoch 17/50\n",
      "296/296 [==============================] - 0s 962us/step - loss: 0.3194 - accuracy: 0.8747 - val_loss: 0.3315 - val_accuracy: 0.8680\n",
      "Epoch 18/50\n",
      "296/296 [==============================] - 0s 973us/step - loss: 0.3202 - accuracy: 0.8744 - val_loss: 0.3339 - val_accuracy: 0.8822\n",
      "Epoch 19/50\n",
      "296/296 [==============================] - 0s 952us/step - loss: 0.3203 - accuracy: 0.8751 - val_loss: 0.3314 - val_accuracy: 0.8718\n",
      "Epoch 20/50\n",
      "296/296 [==============================] - 0s 997us/step - loss: 0.3202 - accuracy: 0.8757 - val_loss: 0.3284 - val_accuracy: 0.8765\n",
      "Epoch 21/50\n",
      "296/296 [==============================] - 0s 931us/step - loss: 0.3202 - accuracy: 0.8758 - val_loss: 0.3283 - val_accuracy: 0.8784\n",
      "Epoch 22/50\n",
      "296/296 [==============================] - 0s 943us/step - loss: 0.3188 - accuracy: 0.8750 - val_loss: 0.3270 - val_accuracy: 0.8822\n",
      "Epoch 23/50\n",
      "296/296 [==============================] - 0s 925us/step - loss: 0.3185 - accuracy: 0.8759 - val_loss: 0.3287 - val_accuracy: 0.8813\n",
      "Epoch 24/50\n",
      "296/296 [==============================] - 0s 993us/step - loss: 0.3183 - accuracy: 0.8746 - val_loss: 0.3377 - val_accuracy: 0.8784\n",
      "Epoch 25/50\n",
      "296/296 [==============================] - 0s 952us/step - loss: 0.3191 - accuracy: 0.8735 - val_loss: 0.3324 - val_accuracy: 0.8680\n",
      "Epoch 26/50\n",
      "296/296 [==============================] - 0s 986us/step - loss: 0.3188 - accuracy: 0.8765 - val_loss: 0.3301 - val_accuracy: 0.8794\n",
      "Epoch 27/50\n",
      "296/296 [==============================] - 0s 955us/step - loss: 0.3186 - accuracy: 0.8765 - val_loss: 0.3282 - val_accuracy: 0.8756\n",
      "Epoch 28/50\n",
      "296/296 [==============================] - 0s 944us/step - loss: 0.3177 - accuracy: 0.8757 - val_loss: 0.3297 - val_accuracy: 0.8794\n",
      "Epoch 29/50\n",
      "296/296 [==============================] - 0s 929us/step - loss: 0.3178 - accuracy: 0.8783 - val_loss: 0.3316 - val_accuracy: 0.8746\n",
      "Epoch 30/50\n",
      "296/296 [==============================] - 0s 972us/step - loss: 0.3184 - accuracy: 0.8754 - val_loss: 0.3311 - val_accuracy: 0.8794\n",
      "Epoch 31/50\n",
      "296/296 [==============================] - 0s 943us/step - loss: 0.3169 - accuracy: 0.8767 - val_loss: 0.3301 - val_accuracy: 0.8803\n",
      "Epoch 32/50\n",
      "296/296 [==============================] - 0s 955us/step - loss: 0.3176 - accuracy: 0.8748 - val_loss: 0.3308 - val_accuracy: 0.8784\n",
      "Epoch 33/50\n",
      "296/296 [==============================] - 0s 922us/step - loss: 0.3171 - accuracy: 0.8778 - val_loss: 0.3329 - val_accuracy: 0.8841\n",
      "Epoch 34/50\n",
      "296/296 [==============================] - 0s 965us/step - loss: 0.3173 - accuracy: 0.8760 - val_loss: 0.3406 - val_accuracy: 0.8670\n",
      "Epoch 35/50\n",
      "296/296 [==============================] - 0s 1ms/step - loss: 0.3164 - accuracy: 0.8775 - val_loss: 0.3320 - val_accuracy: 0.8775\n",
      "Epoch 36/50\n",
      "296/296 [==============================] - 0s 944us/step - loss: 0.3171 - accuracy: 0.8769 - val_loss: 0.3304 - val_accuracy: 0.8775\n",
      "Epoch 37/50\n",
      "296/296 [==============================] - 0s 964us/step - loss: 0.3170 - accuracy: 0.8756 - val_loss: 0.3328 - val_accuracy: 0.8708\n",
      "Epoch 38/50\n",
      "296/296 [==============================] - 0s 941us/step - loss: 0.3183 - accuracy: 0.8742 - val_loss: 0.3318 - val_accuracy: 0.8775\n",
      "Epoch 39/50\n",
      "296/296 [==============================] - 0s 938us/step - loss: 0.3173 - accuracy: 0.8751 - val_loss: 0.3317 - val_accuracy: 0.8841\n",
      "Epoch 40/50\n",
      "296/296 [==============================] - 0s 969us/step - loss: 0.3166 - accuracy: 0.8755 - val_loss: 0.3327 - val_accuracy: 0.8718\n",
      "Epoch 41/50\n",
      "296/296 [==============================] - 0s 969us/step - loss: 0.3164 - accuracy: 0.8778 - val_loss: 0.3335 - val_accuracy: 0.8718\n",
      "Epoch 42/50\n",
      "296/296 [==============================] - 0s 947us/step - loss: 0.3161 - accuracy: 0.8766 - val_loss: 0.3310 - val_accuracy: 0.8813\n",
      "Epoch 43/50\n",
      "296/296 [==============================] - 0s 976us/step - loss: 0.3163 - accuracy: 0.8758 - val_loss: 0.3333 - val_accuracy: 0.8756\n",
      "Epoch 44/50\n",
      "296/296 [==============================] - 0s 978us/step - loss: 0.3167 - accuracy: 0.8753 - val_loss: 0.3319 - val_accuracy: 0.8756\n",
      "Epoch 45/50\n",
      "296/296 [==============================] - 0s 947us/step - loss: 0.3164 - accuracy: 0.8772 - val_loss: 0.3357 - val_accuracy: 0.8756\n",
      "Epoch 46/50\n",
      "296/296 [==============================] - 0s 990us/step - loss: 0.3153 - accuracy: 0.8783 - val_loss: 0.3340 - val_accuracy: 0.8756\n",
      "Epoch 47/50\n",
      "296/296 [==============================] - 0s 945us/step - loss: 0.3148 - accuracy: 0.8770 - val_loss: 0.3335 - val_accuracy: 0.8708\n",
      "Epoch 48/50\n",
      "296/296 [==============================] - 0s 985us/step - loss: 0.3157 - accuracy: 0.8757 - val_loss: 0.3339 - val_accuracy: 0.8699\n",
      "Epoch 49/50\n",
      "296/296 [==============================] - 0s 976us/step - loss: 0.3156 - accuracy: 0.8756 - val_loss: 0.3334 - val_accuracy: 0.8860\n",
      "Epoch 50/50\n",
      "296/296 [==============================] - 0s 966us/step - loss: 0.3148 - accuracy: 0.8783 - val_loss: 0.3337 - val_accuracy: 0.8822\n",
      "162/162 [==============================] - 0s 752us/step - loss: 0.3468 - accuracy: 0.8673\n",
      "162/162 [==============================] - 0s 561us/step\n"
     ]
    }
   ],
   "source": [
    "X_train, X_test, y_train, y_test = train_test_split(clusters5x5_cleaned, pidNN_cleaned, test_size=0.33, random_state=42)\n",
    "\n",
    "model3.fit(X_train, y_train, batch_size=32, epochs=50, validation_split=0.1)\n",
    "\n",
    "model3.evaluate(X_test, y_test)\n",
    "fpr_dnn_5x5, tpr_dnn_5x5, thresholds = metrics.roc_curve(y_test, model3.predict(X_test))"
   ]
  },
  {
   "cell_type": "code",
   "execution_count": 42,
   "id": "932e36af",
   "metadata": {},
   "outputs": [
    {
     "name": "stdout",
     "output_type": "stream",
     "text": [
      "Epoch 1/50\n",
      "296/296 [==============================] - 0s 2ms/step - loss: 0.4351 - accuracy: 0.7964 - val_loss: 0.4228 - val_accuracy: 0.8167\n",
      "Epoch 2/50\n",
      "296/296 [==============================] - 0s 1ms/step - loss: 0.4339 - accuracy: 0.7981 - val_loss: 0.4240 - val_accuracy: 0.8110\n",
      "Epoch 3/50\n",
      "296/296 [==============================] - 0s 1ms/step - loss: 0.4418 - accuracy: 0.7917 - val_loss: 0.4461 - val_accuracy: 0.7996\n",
      "Epoch 4/50\n",
      "296/296 [==============================] - 0s 1ms/step - loss: 0.4384 - accuracy: 0.7944 - val_loss: 0.4234 - val_accuracy: 0.8139\n",
      "Epoch 5/50\n",
      "296/296 [==============================] - 1s 2ms/step - loss: 0.4324 - accuracy: 0.7999 - val_loss: 0.4233 - val_accuracy: 0.8205\n",
      "Epoch 6/50\n",
      "296/296 [==============================] - 1s 2ms/step - loss: 0.4399 - accuracy: 0.7962 - val_loss: 0.4306 - val_accuracy: 0.8120\n",
      "Epoch 7/50\n",
      "296/296 [==============================] - 0s 1ms/step - loss: 0.4376 - accuracy: 0.7952 - val_loss: 0.4497 - val_accuracy: 0.8034\n",
      "Epoch 8/50\n",
      "296/296 [==============================] - 0s 1ms/step - loss: 0.4320 - accuracy: 0.8000 - val_loss: 0.4218 - val_accuracy: 0.8167\n",
      "Epoch 9/50\n",
      "296/296 [==============================] - 0s 1ms/step - loss: 0.4344 - accuracy: 0.7969 - val_loss: 0.4263 - val_accuracy: 0.8139\n",
      "Epoch 10/50\n",
      "296/296 [==============================] - 0s 1ms/step - loss: 0.4327 - accuracy: 0.7976 - val_loss: 0.4261 - val_accuracy: 0.8158\n",
      "Epoch 11/50\n",
      "296/296 [==============================] - 0s 1ms/step - loss: 0.4363 - accuracy: 0.7970 - val_loss: 0.4380 - val_accuracy: 0.8139\n",
      "Epoch 12/50\n",
      "296/296 [==============================] - 0s 1ms/step - loss: 0.4354 - accuracy: 0.7997 - val_loss: 0.4213 - val_accuracy: 0.8186\n",
      "Epoch 13/50\n",
      "296/296 [==============================] - 0s 1ms/step - loss: 0.4365 - accuracy: 0.7962 - val_loss: 0.4482 - val_accuracy: 0.8101\n",
      "Epoch 14/50\n",
      "296/296 [==============================] - 0s 1ms/step - loss: 0.4334 - accuracy: 0.7997 - val_loss: 0.4531 - val_accuracy: 0.8053\n",
      "Epoch 15/50\n",
      "296/296 [==============================] - 0s 1ms/step - loss: 0.4334 - accuracy: 0.7969 - val_loss: 0.4345 - val_accuracy: 0.8044\n",
      "Epoch 16/50\n",
      "296/296 [==============================] - 0s 1ms/step - loss: 0.4322 - accuracy: 0.7964 - val_loss: 0.4199 - val_accuracy: 0.8205\n",
      "Epoch 17/50\n",
      "296/296 [==============================] - 0s 1ms/step - loss: 0.4337 - accuracy: 0.7986 - val_loss: 0.4361 - val_accuracy: 0.8053\n",
      "Epoch 18/50\n",
      "296/296 [==============================] - 0s 1ms/step - loss: 0.4304 - accuracy: 0.8019 - val_loss: 0.4352 - val_accuracy: 0.8015\n",
      "Epoch 19/50\n",
      "296/296 [==============================] - 0s 1ms/step - loss: 0.4334 - accuracy: 0.7974 - val_loss: 0.4314 - val_accuracy: 0.8129\n",
      "Epoch 20/50\n",
      "296/296 [==============================] - 0s 1ms/step - loss: 0.4358 - accuracy: 0.7989 - val_loss: 0.4223 - val_accuracy: 0.8177\n",
      "Epoch 21/50\n",
      "296/296 [==============================] - 0s 1ms/step - loss: 0.4328 - accuracy: 0.8011 - val_loss: 0.4318 - val_accuracy: 0.8148\n",
      "Epoch 22/50\n",
      "296/296 [==============================] - 0s 1ms/step - loss: 0.4368 - accuracy: 0.7963 - val_loss: 0.4558 - val_accuracy: 0.7911\n",
      "Epoch 23/50\n",
      "296/296 [==============================] - 0s 1ms/step - loss: 0.4298 - accuracy: 0.8008 - val_loss: 0.4228 - val_accuracy: 0.8148\n",
      "Epoch 24/50\n",
      "296/296 [==============================] - 0s 1ms/step - loss: 0.4330 - accuracy: 0.7967 - val_loss: 0.4820 - val_accuracy: 0.7521\n",
      "Epoch 25/50\n",
      "296/296 [==============================] - 0s 1ms/step - loss: 0.4313 - accuracy: 0.7975 - val_loss: 0.4245 - val_accuracy: 0.8167\n",
      "Epoch 26/50\n",
      "296/296 [==============================] - 0s 1ms/step - loss: 0.4308 - accuracy: 0.8020 - val_loss: 0.4366 - val_accuracy: 0.8120\n",
      "Epoch 27/50\n",
      "296/296 [==============================] - 0s 1ms/step - loss: 0.4313 - accuracy: 0.7970 - val_loss: 0.4229 - val_accuracy: 0.8186\n",
      "Epoch 28/50\n",
      "296/296 [==============================] - 0s 1ms/step - loss: 0.4294 - accuracy: 0.8001 - val_loss: 0.4209 - val_accuracy: 0.8215\n",
      "Epoch 29/50\n",
      "296/296 [==============================] - 0s 1ms/step - loss: 0.4295 - accuracy: 0.7998 - val_loss: 0.4311 - val_accuracy: 0.8120\n",
      "Epoch 30/50\n",
      "296/296 [==============================] - 0s 1ms/step - loss: 0.4304 - accuracy: 0.7958 - val_loss: 0.4264 - val_accuracy: 0.8139\n",
      "Epoch 31/50\n",
      "296/296 [==============================] - 0s 1ms/step - loss: 0.4324 - accuracy: 0.7986 - val_loss: 0.4233 - val_accuracy: 0.8167\n",
      "Epoch 32/50\n",
      "296/296 [==============================] - 0s 1ms/step - loss: 0.4278 - accuracy: 0.8024 - val_loss: 0.4386 - val_accuracy: 0.8139\n",
      "Epoch 33/50\n",
      "296/296 [==============================] - 0s 1ms/step - loss: 0.4323 - accuracy: 0.7991 - val_loss: 0.4276 - val_accuracy: 0.8215\n",
      "Epoch 34/50\n",
      "296/296 [==============================] - 0s 1ms/step - loss: 0.4300 - accuracy: 0.7972 - val_loss: 0.4275 - val_accuracy: 0.8243\n",
      "Epoch 35/50\n",
      "296/296 [==============================] - 0s 1ms/step - loss: 0.4280 - accuracy: 0.8021 - val_loss: 0.4390 - val_accuracy: 0.8082\n",
      "Epoch 36/50\n",
      "296/296 [==============================] - 0s 1ms/step - loss: 0.4302 - accuracy: 0.7998 - val_loss: 0.4311 - val_accuracy: 0.8139\n",
      "Epoch 37/50\n",
      "296/296 [==============================] - 0s 1ms/step - loss: 0.4312 - accuracy: 0.8003 - val_loss: 0.4272 - val_accuracy: 0.8186\n",
      "Epoch 38/50\n",
      "296/296 [==============================] - 0s 1ms/step - loss: 0.4315 - accuracy: 0.7969 - val_loss: 0.4234 - val_accuracy: 0.8234\n",
      "Epoch 39/50\n",
      "296/296 [==============================] - 0s 1ms/step - loss: 0.4247 - accuracy: 0.8046 - val_loss: 0.4225 - val_accuracy: 0.8224\n",
      "Epoch 40/50\n",
      "296/296 [==============================] - 0s 1ms/step - loss: 0.4253 - accuracy: 0.8055 - val_loss: 0.4345 - val_accuracy: 0.8186\n",
      "Epoch 41/50\n",
      "296/296 [==============================] - 0s 1ms/step - loss: 0.4263 - accuracy: 0.7990 - val_loss: 0.4485 - val_accuracy: 0.7892\n",
      "Epoch 42/50\n",
      "296/296 [==============================] - 0s 1ms/step - loss: 0.4317 - accuracy: 0.7984 - val_loss: 0.4322 - val_accuracy: 0.8053\n",
      "Epoch 43/50\n",
      "296/296 [==============================] - 0s 1ms/step - loss: 0.4304 - accuracy: 0.8001 - val_loss: 0.4235 - val_accuracy: 0.8196\n",
      "Epoch 44/50\n",
      "296/296 [==============================] - 0s 1ms/step - loss: 0.4256 - accuracy: 0.8024 - val_loss: 0.4293 - val_accuracy: 0.8148\n",
      "Epoch 45/50\n",
      "296/296 [==============================] - 0s 1ms/step - loss: 0.4279 - accuracy: 0.8007 - val_loss: 0.4312 - val_accuracy: 0.8167\n",
      "Epoch 46/50\n",
      "296/296 [==============================] - 0s 1ms/step - loss: 0.4269 - accuracy: 0.8009 - val_loss: 0.4294 - val_accuracy: 0.8177\n",
      "Epoch 47/50\n",
      "296/296 [==============================] - 0s 1ms/step - loss: 0.4250 - accuracy: 0.8017 - val_loss: 0.4375 - val_accuracy: 0.8044\n",
      "Epoch 48/50\n",
      "296/296 [==============================] - 0s 1ms/step - loss: 0.4255 - accuracy: 0.8007 - val_loss: 0.4309 - val_accuracy: 0.8205\n",
      "Epoch 49/50\n",
      "296/296 [==============================] - 0s 1ms/step - loss: 0.4278 - accuracy: 0.8035 - val_loss: 0.4320 - val_accuracy: 0.8139\n",
      "Epoch 50/50\n",
      "296/296 [==============================] - 0s 1ms/step - loss: 0.4253 - accuracy: 0.8012 - val_loss: 0.4331 - val_accuracy: 0.8196\n",
      "162/162 [==============================] - 0s 853us/step - loss: 0.4500 - accuracy: 0.7969\n",
      "162/162 [==============================] - 0s 681us/step\n"
     ]
    }
   ],
   "source": [
    "X_train, X_test, y_train, y_test = train_test_split(clusters5x5_2d_cleaned, pidNN_cleaned, test_size=0.33, random_state=42)\n",
    "\n",
    "model4.fit(X_train, y_train, batch_size=32, epochs=50, validation_split=0.1)\n",
    "\n",
    "model4.evaluate(X_test, y_test)\n",
    "fpr_cnn_5x5, tpr_cnn_5x5, thresholds = metrics.roc_curve(y_test, model4.predict(X_test))"
   ]
  },
  {
   "cell_type": "code",
   "execution_count": 43,
   "id": "34b78f06",
   "metadata": {},
   "outputs": [
    {
     "name": "stdout",
     "output_type": "stream",
     "text": [
      "dnn_5x5:\n",
      "pi0 rejection rate at 90% photon efficiency: 0.820185614849188\n",
      "photon rejection rate at 90% pi0 efficiency: 0.5954580446497305\n",
      "\n",
      "cnn_5x5:\n",
      "pi0 rejection rate at 90% photon efficiency: 0.6918020108275329\n",
      "photon rejection rate at 90% pi0 efficiency: 0.44380292532717475\n"
     ]
    },
    {
     "data": {
      "image/png": "[encoded data removed]",
      "text/plain": [
       "<Figure size 432x288 with 1 Axes>"
      ]
     },
     "metadata": {
      "needs_background": "light"
     },
     "output_type": "display_data"
    }
   ],
   "source": [
    "plt.plot(1-fpr_dnn_5x5,tpr_dnn_5x5,label=\"DNN, 5x5\")\n",
    "plt.plot(1-fpr_cnn_5x5,tpr_cnn_5x5,label=\"CNN, 5x5\")\n",
    "plt.xlabel(\"pi0 efficiency\")\n",
    "plt.ylabel(\"photon efficiency\")\n",
    "plt.legend();\n",
    "\n",
    "print(\"dnn_5x5:\")\n",
    "print(\"pi0 rejection rate at 90% photon efficiency:\",np.interp(0.9,tpr_dnn_5x5,1-fpr_dnn_5x5))\n",
    "print(\"photon rejection rate at 90% pi0 efficiency:\",np.interp(0.1,fpr_dnn_5x5,tpr_dnn_5x5))\n",
    "print(\"\")\n",
    "print(\"cnn_5x5:\")\n",
    "print(\"pi0 rejection rate at 90% photon efficiency:\",np.interp(0.9,tpr_cnn_5x5,1-fpr_cnn_5x5))\n",
    "print(\"photon rejection rate at 90% pi0 efficiency:\",np.interp(0.1,fpr_cnn_5x5,tpr_cnn_5x5))"
   ]
  },
  {
   "cell_type": "code",
   "execution_count": null,
   "id": "89f36666",
   "metadata": {},
   "outputs": [],
   "source": []
  }
 ],
 "metadata": {
  "kernelspec": {
   "display_name": "Python 3 (ipykernel)",
   "language": "python",
   "name": "python3"
  },
  "language_info": {
   "codemirror_mode": {
    "name": "ipython",
    "version": 3
   },
   "file_extension": ".py",
   "mimetype": "text/x-python",
   "name": "python",
   "nbconvert_exporter": "python",
   "pygments_lexer": "ipython3",
   "version": "3.10.6"
  }
 },
 "nbformat": 4,
 "nbformat_minor": 5
}
